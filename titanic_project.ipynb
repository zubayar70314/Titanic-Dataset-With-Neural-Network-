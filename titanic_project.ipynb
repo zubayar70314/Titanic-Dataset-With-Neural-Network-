{
 "cells": [
  {
   "cell_type": "markdown",
   "metadata": {
    "_cell_guid": "9999b9e5-1eef-4aea-a2ff-0f0d4b6b98e9",
    "_execution_state": "idle",
    "_uuid": "f1c0be51d6e0dd47f833e1b7f46ec7513948a1f9",
    "id": "7OcmvtoXN-7_"
   },
   "source": [
    "#  Titanic Dataset  with Neural Network\n",
    "\n",
    "Serajus Salehin, ID : 2017-3-60-018\n",
    "Zubayar Mahatab Md Sakif, ID :2018-1-60-105\n",
    "Israt Jahan Mridula, ID : 2017-1-60-108\n",
    "Md. Nazmul islam,ID : 2017-2-60-38 \n",
    "\n"
   ]
  },
  {
   "cell_type": "code",
   "execution_count": 529,
   "metadata": {
    "_cell_guid": "9e319230-1cc2-4b19-ad66-06a07e07fc60",
    "_execution_state": "idle",
    "_uuid": "03de849fb872e11b3db2a2c99563783ce6ba784f",
    "colab": {
     "base_uri": "https://localhost:8080/"
    },
    "id": "qMD5yD_WN-8A",
    "outputId": "040bb10d-a4af-4ef1-bb1d-f02ca4a4c932"
   },
   "outputs": [
    {
     "name": "stdout",
     "output_type": "stream",
     "text": [
      "((891, 12), (418, 11), (1309, 12))\n"
     ]
    }
   ],
   "source": [
    "import numpy as np\n",
    "import pandas as pd\n",
    "import matplotlib.pyplot as plt\n",
    "import seaborn as sns\n",
    "%matplotlib inline\n",
    "\n",
    "\n",
    "# Random Forest Regressor\n",
    "from sklearn.ensemble import RandomForestRegressor\n",
    "\n",
    "# Neural Network\n",
    "#from tensorflow import keras\n",
    "import keras\n",
    "\n",
    "from keras.models import Sequential \n",
    "from keras.layers import Dense\n",
    "\n",
    "# load the data\n",
    "df_train = pd.read_csv('/content/train.csv')\n",
    "df_test = pd.read_csv('/content/test.csv')\n",
    "df = df_train.append(df_test , ignore_index = True)\n",
    "\n",
    "print(df_train.shape, df_test.shape,df.shape)"
   ]
  },
  {
   "cell_type": "markdown",
   "metadata": {
    "id": "Sy5FGZaGN-8H"
   },
   "source": [
    "### Pclass Analysis"
   ]
  },
  {
   "cell_type": "code",
   "execution_count": 530,
   "metadata": {
    "_cell_guid": "8ac53d3d-bf63-4b0a-b4dd-cf69ebb1b189",
    "_execution_state": "idle",
    "_uuid": "7a92a95fd0642b65500aa0fe2d5453f8f9cff24c",
    "colab": {
     "base_uri": "https://localhost:8080/"
    },
    "id": "8jslxB3FN-8I",
    "outputId": "194d6abd-be28-44b4-9454-d333f3821310"
   },
   "outputs": [
    {
     "data": {
      "text/plain": [
       "0"
      ]
     },
     "execution_count": 530,
     "metadata": {
      "tags": []
     },
     "output_type": "execute_result"
    }
   ],
   "source": [
    "df['Pclass'].isnull().sum()"
   ]
  },
  {
   "cell_type": "code",
   "execution_count": 531,
   "metadata": {
    "_cell_guid": "366c466d-d5f1-41f2-9568-3abc426bfc75",
    "_execution_state": "idle",
    "_uuid": "d380019bd6179b6ddcde472ce10771788ae204f4",
    "colab": {
     "base_uri": "https://localhost:8080/",
     "height": 142
    },
    "id": "ZAdVsrpIN-8N",
    "outputId": "c73c5f43-9131-4ce6-c9cb-9a49fbb74e22"
   },
   "outputs": [
    {
     "data": {
      "text/html": [
       "<div>\n",
       "<style scoped>\n",
       "    .dataframe tbody tr th:only-of-type {\n",
       "        vertical-align: middle;\n",
       "    }\n",
       "\n",
       "    .dataframe tbody tr th {\n",
       "        vertical-align: top;\n",
       "    }\n",
       "\n",
       "    .dataframe thead th {\n",
       "        text-align: right;\n",
       "    }\n",
       "</style>\n",
       "<table border=\"1\" class=\"dataframe\">\n",
       "  <thead>\n",
       "    <tr style=\"text-align: right;\">\n",
       "      <th></th>\n",
       "      <th>Pclass</th>\n",
       "      <th>Survived</th>\n",
       "    </tr>\n",
       "  </thead>\n",
       "  <tbody>\n",
       "    <tr>\n",
       "      <th>0</th>\n",
       "      <td>1</td>\n",
       "      <td>0.629630</td>\n",
       "    </tr>\n",
       "    <tr>\n",
       "      <th>1</th>\n",
       "      <td>2</td>\n",
       "      <td>0.472826</td>\n",
       "    </tr>\n",
       "    <tr>\n",
       "      <th>2</th>\n",
       "      <td>3</td>\n",
       "      <td>0.242363</td>\n",
       "    </tr>\n",
       "  </tbody>\n",
       "</table>\n",
       "</div>"
      ],
      "text/plain": [
       "   Pclass  Survived\n",
       "0       1  0.629630\n",
       "1       2  0.472826\n",
       "2       3  0.242363"
      ]
     },
     "execution_count": 531,
     "metadata": {
      "tags": []
     },
     "output_type": "execute_result"
    }
   ],
   "source": [
    "df[['Pclass', 'Survived']].groupby(['Pclass'], as_index=False).mean()"
   ]
  },
  {
   "cell_type": "markdown",
   "metadata": {
    "_cell_guid": "cf76f8ac-cc51-4ffb-8066-b605c5aa971c",
    "_execution_state": "idle",
    "_uuid": "617016b19a60d3ae9b2b1dbfefb73f4fb56e13a9",
    "id": "jQr8NX4KN-8Y"
   },
   "source": [
    "### Name To Title"
   ]
  },
  {
   "cell_type": "code",
   "execution_count": 532,
   "metadata": {
    "_cell_guid": "fa11d6a2-ad3d-443b-8579-de525fdd20c1",
    "_execution_state": "idle",
    "_uuid": "a40e18c8e9fe2692dec94722cc6ab316d71b5003",
    "colab": {
     "base_uri": "https://localhost:8080/"
    },
    "id": "ROKcSzBEN-8Z",
    "outputId": "0d1a6479-e45c-4054-8600-7a42a7e55f1c"
   },
   "outputs": [
    {
     "data": {
      "text/plain": [
       "0                              Braund, Mr. Owen Harris\n",
       "1    Cumings, Mrs. John Bradley (Florence Briggs Th...\n",
       "2                               Heikkinen, Miss. Laina\n",
       "3         Futrelle, Mrs. Jacques Heath (Lily May Peel)\n",
       "4                             Allen, Mr. William Henry\n",
       "5                                     Moran, Mr. James\n",
       "6                              McCarthy, Mr. Timothy J\n",
       "7                       Palsson, Master. Gosta Leonard\n",
       "8    Johnson, Mrs. Oscar W (Elisabeth Vilhelmina Berg)\n",
       "9                  Nasser, Mrs. Nicholas (Adele Achem)\n",
       "Name: Name, dtype: object"
      ]
     },
     "execution_count": 532,
     "metadata": {
      "tags": []
     },
     "output_type": "execute_result"
    }
   ],
   "source": [
    "df.Name.head(10)"
   ]
  },
  {
   "cell_type": "code",
   "execution_count": 533,
   "metadata": {
    "_cell_guid": "bb1fc2fe-1947-4f89-99fa-d621711615fc",
    "_execution_state": "idle",
    "_uuid": "93e6890cecf2d3ae919ec30b24588d780092720d",
    "colab": {
     "base_uri": "https://localhost:8080/"
    },
    "id": "EPi7QycEN-8f",
    "outputId": "0c3f7fe7-da0e-4ba9-cd54-d97ec5f51e36"
   },
   "outputs": [
    {
     "data": {
      "text/plain": [
       "Mr              757\n",
       "Miss            260\n",
       "Mrs             197\n",
       "Master           61\n",
       "Rev               8\n",
       "Dr                8\n",
       "Col               4\n",
       "Major             2\n",
       "Mlle              2\n",
       "Ms                2\n",
       "Mme               1\n",
       "the Countess      1\n",
       "Don               1\n",
       "Lady              1\n",
       "Sir               1\n",
       "Jonkheer          1\n",
       "Dona              1\n",
       "Capt              1\n",
       "Name: Title, dtype: int64"
      ]
     },
     "execution_count": 533,
     "metadata": {
      "tags": []
     },
     "output_type": "execute_result"
    }
   ],
   "source": [
    "df['Title'] = df.Name.map( lambda x: x.split(',')[1].split( '.' )[0].strip())\n",
    "\n",
    "df['Title'].value_counts()"
   ]
  },
  {
   "cell_type": "code",
   "execution_count": 534,
   "metadata": {
    "_cell_guid": "67b67929-d7c3-4d52-9cde-eb37b4ef256d",
    "_execution_state": "idle",
    "_uuid": "a7840964bab69268bcc0e2516770f7faf00aad1d",
    "colab": {
     "base_uri": "https://localhost:8080/",
     "height": 204
    },
    "id": "2pSBTf2EN-8m",
    "outputId": "7d152210-3b13-4343-b51d-ccb9b2df5443"
   },
   "outputs": [
    {
     "data": {
      "text/html": [
       "<div>\n",
       "<style scoped>\n",
       "    .dataframe tbody tr th:only-of-type {\n",
       "        vertical-align: middle;\n",
       "    }\n",
       "\n",
       "    .dataframe tbody tr th {\n",
       "        vertical-align: top;\n",
       "    }\n",
       "\n",
       "    .dataframe thead th {\n",
       "        text-align: right;\n",
       "    }\n",
       "</style>\n",
       "<table border=\"1\" class=\"dataframe\">\n",
       "  <thead>\n",
       "    <tr style=\"text-align: right;\">\n",
       "      <th></th>\n",
       "      <th>Title</th>\n",
       "      <th>Survived</th>\n",
       "    </tr>\n",
       "  </thead>\n",
       "  <tbody>\n",
       "    <tr>\n",
       "      <th>0</th>\n",
       "      <td>Master</td>\n",
       "      <td>0.575000</td>\n",
       "    </tr>\n",
       "    <tr>\n",
       "      <th>1</th>\n",
       "      <td>Miss</td>\n",
       "      <td>0.701087</td>\n",
       "    </tr>\n",
       "    <tr>\n",
       "      <th>2</th>\n",
       "      <td>Mr</td>\n",
       "      <td>0.156673</td>\n",
       "    </tr>\n",
       "    <tr>\n",
       "      <th>3</th>\n",
       "      <td>Mrs</td>\n",
       "      <td>0.796875</td>\n",
       "    </tr>\n",
       "    <tr>\n",
       "      <th>4</th>\n",
       "      <td>Others</td>\n",
       "      <td>0.318182</td>\n",
       "    </tr>\n",
       "  </tbody>\n",
       "</table>\n",
       "</div>"
      ],
      "text/plain": [
       "    Title  Survived\n",
       "0  Master  0.575000\n",
       "1    Miss  0.701087\n",
       "2      Mr  0.156673\n",
       "3     Mrs  0.796875\n",
       "4  Others  0.318182"
      ]
     },
     "execution_count": 534,
     "metadata": {
      "tags": []
     },
     "output_type": "execute_result"
    }
   ],
   "source": [
    "df['Title'] = df['Title'].replace('Mlle', 'Miss')\n",
    "df['Title'] = df['Title'].replace(['Mme','Lady','Ms'], 'Mrs')\n",
    "df.Title.loc[ (df.Title !=  'Master') & (df.Title !=  'Mr') & (df.Title !=  'Miss') \n",
    "             & (df.Title !=  'Mrs')] = 'Others'\n",
    "\n",
    "df[['Title', 'Survived']].groupby(['Title'], as_index=False).mean()"
   ]
  },
  {
   "cell_type": "code",
   "execution_count": 535,
   "metadata": {
    "_cell_guid": "18a55b3d-677f-4611-a41e-be3f9ff49c67",
    "_execution_state": "idle",
    "_uuid": "77a517250b3a9b32da2436b8522e864e4e3e7016",
    "colab": {
     "base_uri": "https://localhost:8080/"
    },
    "id": "u_9Ap6_jN-8u",
    "outputId": "b2e043df-1b6d-4bc2-d656-b15b89fa4671"
   },
   "outputs": [
    {
     "data": {
      "text/plain": [
       "Mr        757\n",
       "Miss      262\n",
       "Mrs       201\n",
       "Master     61\n",
       "Others     28\n",
       "Name: Title, dtype: int64"
      ]
     },
     "execution_count": 535,
     "metadata": {
      "tags": []
     },
     "output_type": "execute_result"
    }
   ],
   "source": [
    "df['Title'].value_counts()"
   ]
  },
  {
   "cell_type": "code",
   "execution_count": 536,
   "metadata": {
    "_cell_guid": "516ceeba-2dab-4fff-8f5d-4fe94f4eddc8",
    "_execution_state": "idle",
    "_uuid": "3f031015c4e518d5b0b1874bac37a0d899eb2a60",
    "id": "BK-8sytXN-81"
   },
   "outputs": [],
   "source": [
    "df = pd.concat([df, pd.get_dummies(df['Title'])], axis=1).drop(labels=['Name'], axis=1)"
   ]
  },
  {
   "cell_type": "markdown",
   "metadata": {
    "_cell_guid": "58e43a50-20cc-40d4-bae8-ab455cd52887",
    "_execution_state": "idle",
    "_uuid": "60486db5b7e05da01f617a8555289670e1ab9c3a",
    "id": "YtOkalV3N-89"
   },
   "source": [
    "### Sex(Male:0 Female:1)"
   ]
  },
  {
   "cell_type": "code",
   "execution_count": 537,
   "metadata": {
    "_cell_guid": "79870c7d-e04f-4269-bf4d-ff314bfc1e96",
    "_execution_state": "idle",
    "_uuid": "c8262045e243302a4d4e84426c4b8c2932a0702b",
    "colab": {
     "base_uri": "https://localhost:8080/"
    },
    "id": "bkh0k5N2N-8-",
    "outputId": "5c724758-776e-4aca-d5c1-271f0e6d67e6"
   },
   "outputs": [
    {
     "data": {
      "text/plain": [
       "0"
      ]
     },
     "execution_count": 537,
     "metadata": {
      "tags": []
     },
     "output_type": "execute_result"
    }
   ],
   "source": [
    "df.Sex.isnull().sum()"
   ]
  },
  {
   "cell_type": "code",
   "execution_count": 538,
   "metadata": {
    "_cell_guid": "fbf9e34d-01cd-4004-a509-cbc94b66edbc",
    "_execution_state": "idle",
    "_uuid": "ff1e3b6673013d9ab3d16f113c3bc57520572d4a",
    "colab": {
     "base_uri": "https://localhost:8080/",
     "height": 111
    },
    "id": "p6ULE9V_N-9C",
    "outputId": "2ea9f7c2-126e-4d45-a904-a92a7ff94239"
   },
   "outputs": [
    {
     "data": {
      "text/html": [
       "<div>\n",
       "<style scoped>\n",
       "    .dataframe tbody tr th:only-of-type {\n",
       "        vertical-align: middle;\n",
       "    }\n",
       "\n",
       "    .dataframe tbody tr th {\n",
       "        vertical-align: top;\n",
       "    }\n",
       "\n",
       "    .dataframe thead th {\n",
       "        text-align: right;\n",
       "    }\n",
       "</style>\n",
       "<table border=\"1\" class=\"dataframe\">\n",
       "  <thead>\n",
       "    <tr style=\"text-align: right;\">\n",
       "      <th></th>\n",
       "      <th>Sex</th>\n",
       "      <th>Survived</th>\n",
       "    </tr>\n",
       "  </thead>\n",
       "  <tbody>\n",
       "    <tr>\n",
       "      <th>0</th>\n",
       "      <td>female</td>\n",
       "      <td>0.742038</td>\n",
       "    </tr>\n",
       "    <tr>\n",
       "      <th>1</th>\n",
       "      <td>male</td>\n",
       "      <td>0.188908</td>\n",
       "    </tr>\n",
       "  </tbody>\n",
       "</table>\n",
       "</div>"
      ],
      "text/plain": [
       "      Sex  Survived\n",
       "0  female  0.742038\n",
       "1    male  0.188908"
      ]
     },
     "execution_count": 538,
     "metadata": {
      "tags": []
     },
     "output_type": "execute_result"
    }
   ],
   "source": [
    "df[['Sex', 'Survived']].groupby(['Sex'], as_index=False).mean()\n"
   ]
  },
  {
   "cell_type": "code",
   "execution_count": 539,
   "metadata": {
    "_cell_guid": "b083a394-d2d4-4449-b745-77854545c825",
    "_execution_state": "idle",
    "_uuid": "4d5e24fded5c0296f278a2b8100c896c88050635",
    "id": "Mn1LKkyON-9I"
   },
   "outputs": [],
   "source": [
    "df.Sex = df.Sex.map({'male':0, 'female':1})"
   ]
  },
  {
   "cell_type": "markdown",
   "metadata": {
    "_cell_guid": "c309b91d-cfa8-40fd-815f-1a41692a0b37",
    "_execution_state": "idle",
    "_uuid": "e715870983cdd7ce85a3c92a79672b247c6130c2",
    "id": "UgaBcB1jN_AN"
   },
   "source": [
    "\n",
    "\n",
    "\n",
    "\n",
    "\n",
    "\n",
    "\n",
    "\n",
    "\n",
    "\n",
    "\n",
    "\n",
    "### Cabin(Dropped)"
   ]
  },
  {
   "cell_type": "code",
   "execution_count": 540,
   "metadata": {
    "_cell_guid": "cf7344e8-76ba-4ce7-807e-272f49272423",
    "_execution_state": "idle",
    "_uuid": "dc0da43c475aa71894141aa6578e22b01a99750e",
    "colab": {
     "base_uri": "https://localhost:8080/"
    },
    "id": "emjYwJ2kN_AO",
    "outputId": "3a9f9dd2-6d28-4e73-b158-493c3d91bb1a"
   },
   "outputs": [
    {
     "data": {
      "text/plain": [
       "1014"
      ]
     },
     "execution_count": 540,
     "metadata": {
      "tags": []
     },
     "output_type": "execute_result"
    }
   ],
   "source": [
    "df.Cabin.isnull().sum(axis=0)"
   ]
  },
  {
   "cell_type": "code",
   "execution_count": 541,
   "metadata": {
    "_cell_guid": "eed848fb-b155-41b2-be78-d04334111893",
    "_execution_state": "idle",
    "_uuid": "742f1b8d7a6e09087135754b14da0e9137b9a981",
    "id": "DgR4LSImN_AU"
   },
   "outputs": [],
   "source": [
    "df = df.drop(labels=['Cabin'], axis=1)"
   ]
  },
  {
   "cell_type": "markdown",
   "metadata": {
    "_cell_guid": "a61221c4-6b5b-489b-a124-35f2b3fae207",
    "_execution_state": "idle",
    "_uuid": "3506dbb251461b09ede6f1ece58c7f15340c6628",
    "id": "pwjLzNzFN_AY"
   },
   "source": [
    "### Embarked(Dropped)"
   ]
  },
  {
   "cell_type": "code",
   "execution_count": 542,
   "metadata": {
    "_cell_guid": "8a8baacb-bcc3-439f-a540-0f5baac20b91",
    "_execution_state": "idle",
    "_uuid": "e1d3efbfad7ee51433326e86de59e2b9e8d5fb21",
    "colab": {
     "base_uri": "https://localhost:8080/"
    },
    "id": "mbHdf8KxN_AZ",
    "outputId": "2f1c4902-513e-48f9-c892-9711aa0a1e06"
   },
   "outputs": [
    {
     "data": {
      "text/plain": [
       "2"
      ]
     },
     "execution_count": 542,
     "metadata": {
      "tags": []
     },
     "output_type": "execute_result"
    }
   ],
   "source": [
    "df.Embarked.isnull().sum(axis=0)"
   ]
  },
  {
   "cell_type": "code",
   "execution_count": 543,
   "metadata": {
    "colab": {
     "base_uri": "https://localhost:8080/"
    },
    "id": "-zIW3vsoikoE",
    "outputId": "5696d405-d319-4478-8031-21f2927cb737"
   },
   "outputs": [
    {
     "data": {
      "text/plain": [
       "S    914\n",
       "C    270\n",
       "Q    123\n",
       "Name: Embarked, dtype: int64"
      ]
     },
     "execution_count": 543,
     "metadata": {
      "tags": []
     },
     "output_type": "execute_result"
    }
   ],
   "source": [
    "df['Embarked'].value_counts()"
   ]
  },
  {
   "cell_type": "code",
   "execution_count": 544,
   "metadata": {
    "_cell_guid": "d65d5808-4d12-4a6c-8aa5-d67bd800a6fe",
    "_execution_state": "idle",
    "_uuid": "0833afac0ae691222f5436be2645a8e9120ca736",
    "id": "ylr00KfFN_Ak"
   },
   "outputs": [],
   "source": [
    "df.Embarked.fillna('S' , inplace=True )"
   ]
  },
  {
   "cell_type": "code",
   "execution_count": 545,
   "metadata": {
    "_cell_guid": "c5a5acd2-47f4-4eda-8cee-7f5759a80ec1",
    "_execution_state": "idle",
    "_uuid": "49fe53c86777c9b62b94a5b559ce15006368458d",
    "colab": {
     "base_uri": "https://localhost:8080/",
     "height": 142
    },
    "id": "qXBr-McxN_Ap",
    "outputId": "bc76fdc8-0c9e-491a-d4a0-30e8fc47ed19"
   },
   "outputs": [
    {
     "data": {
      "text/html": [
       "<div>\n",
       "<style scoped>\n",
       "    .dataframe tbody tr th:only-of-type {\n",
       "        vertical-align: middle;\n",
       "    }\n",
       "\n",
       "    .dataframe tbody tr th {\n",
       "        vertical-align: top;\n",
       "    }\n",
       "\n",
       "    .dataframe thead th {\n",
       "        text-align: right;\n",
       "    }\n",
       "</style>\n",
       "<table border=\"1\" class=\"dataframe\">\n",
       "  <thead>\n",
       "    <tr style=\"text-align: right;\">\n",
       "      <th></th>\n",
       "      <th>Embarked</th>\n",
       "      <th>Survived</th>\n",
       "      <th>Pclass</th>\n",
       "      <th>Age</th>\n",
       "    </tr>\n",
       "  </thead>\n",
       "  <tbody>\n",
       "    <tr>\n",
       "      <th>0</th>\n",
       "      <td>C</td>\n",
       "      <td>0.553571</td>\n",
       "      <td>1.851852</td>\n",
       "      <td>32.332170</td>\n",
       "    </tr>\n",
       "    <tr>\n",
       "      <th>1</th>\n",
       "      <td>Q</td>\n",
       "      <td>0.389610</td>\n",
       "      <td>2.894309</td>\n",
       "      <td>28.630000</td>\n",
       "    </tr>\n",
       "    <tr>\n",
       "      <th>2</th>\n",
       "      <td>S</td>\n",
       "      <td>0.339009</td>\n",
       "      <td>2.344978</td>\n",
       "      <td>29.298151</td>\n",
       "    </tr>\n",
       "  </tbody>\n",
       "</table>\n",
       "</div>"
      ],
      "text/plain": [
       "  Embarked  Survived    Pclass        Age\n",
       "0        C  0.553571  1.851852  32.332170\n",
       "1        Q  0.389610  2.894309  28.630000\n",
       "2        S  0.339009  2.344978  29.298151"
      ]
     },
     "execution_count": 545,
     "metadata": {
      "tags": []
     },
     "output_type": "execute_result"
    }
   ],
   "source": [
    "df[['Embarked', 'Survived','Pclass', 'Age']].groupby(['Embarked'], as_index=False).mean()"
   ]
  },
  {
   "cell_type": "code",
   "execution_count": 546,
   "metadata": {
    "_cell_guid": "2a43f956-9690-4869-bd67-442c338bc57a",
    "_execution_state": "idle",
    "_uuid": "1426a18aa9b7a7dd0f18b260ec13f2d245f3a5a4",
    "id": "Dcr3ViCZN_Av"
   },
   "outputs": [],
   "source": [
    "df = df.drop(labels='Embarked', axis=1)"
   ]
  },
  {
   "cell_type": "markdown",
   "metadata": {
    "_cell_guid": "a2e1256c-73d3-4f73-b51c-eb7aaca1790a",
    "_execution_state": "idle",
    "_uuid": "025f3222286d5591c0600ef07ed6ed0c8f1a3309",
    "id": "_2N5VKGHN-9P"
   },
   "source": [
    "### Age(RandomForestRegressor)"
   ]
  },
  {
   "cell_type": "code",
   "execution_count": 547,
   "metadata": {
    "_cell_guid": "8ba1f221-c912-4eac-a944-6b0afa88a382",
    "_execution_state": "idle",
    "_uuid": "30bc1b17267fb3eb668f4d383b649ecca05051a3",
    "colab": {
     "base_uri": "https://localhost:8080/"
    },
    "id": "M_S_ZrtlN-9Q",
    "outputId": "f48eaf15-7d68-4c75-846b-695f8825e374"
   },
   "outputs": [
    {
     "data": {
      "text/plain": [
       "263"
      ]
     },
     "execution_count": 547,
     "metadata": {
      "tags": []
     },
     "output_type": "execute_result"
    }
   ],
   "source": [
    "df.Age.isnull().sum()"
   ]
  },
  {
   "cell_type": "code",
   "execution_count": 547,
   "metadata": {
    "_cell_guid": "c8fd62bb-30ea-4675-a593-771c6b8c8333",
    "_execution_state": "idle",
    "_uuid": "0972d4354355d154e63aa5ec97565260898749f5",
    "id": "K121ypkKN_A5"
   },
   "outputs": [],
   "source": []
  },
  {
   "cell_type": "code",
   "execution_count": 548,
   "metadata": {
    "_cell_guid": "770f5c78-948f-4261-ae6f-dda0a05da8e6",
    "_execution_state": "idle",
    "_uuid": "9b312ecc51104501196e3f6806abc92d29e9eb46",
    "colab": {
     "base_uri": "https://localhost:8080/",
     "height": 235
    },
    "id": "EUARXMP9N_A9",
    "outputId": "42bf45a0-fbf7-463e-af77-fe1b64331e20"
   },
   "outputs": [
    {
     "data": {
      "text/html": [
       "<div>\n",
       "<style scoped>\n",
       "    .dataframe tbody tr th:only-of-type {\n",
       "        vertical-align: middle;\n",
       "    }\n",
       "\n",
       "    .dataframe tbody tr th {\n",
       "        vertical-align: top;\n",
       "    }\n",
       "\n",
       "    .dataframe thead th {\n",
       "        text-align: right;\n",
       "    }\n",
       "</style>\n",
       "<table border=\"1\" class=\"dataframe\">\n",
       "  <thead>\n",
       "    <tr style=\"text-align: right;\">\n",
       "      <th></th>\n",
       "      <th>Age</th>\n",
       "    </tr>\n",
       "    <tr>\n",
       "      <th>Title</th>\n",
       "      <th></th>\n",
       "    </tr>\n",
       "  </thead>\n",
       "  <tbody>\n",
       "    <tr>\n",
       "      <th>Master</th>\n",
       "      <td>5.482642</td>\n",
       "    </tr>\n",
       "    <tr>\n",
       "      <th>Miss</th>\n",
       "      <td>21.795236</td>\n",
       "    </tr>\n",
       "    <tr>\n",
       "      <th>Mr</th>\n",
       "      <td>32.252151</td>\n",
       "    </tr>\n",
       "    <tr>\n",
       "      <th>Mrs</th>\n",
       "      <td>36.930636</td>\n",
       "    </tr>\n",
       "    <tr>\n",
       "      <th>Others</th>\n",
       "      <td>45.074074</td>\n",
       "    </tr>\n",
       "  </tbody>\n",
       "</table>\n",
       "</div>"
      ],
      "text/plain": [
       "              Age\n",
       "Title            \n",
       "Master   5.482642\n",
       "Miss    21.795236\n",
       "Mr      32.252151\n",
       "Mrs     36.930636\n",
       "Others  45.074074"
      ]
     },
     "execution_count": 548,
     "metadata": {
      "tags": []
     },
     "output_type": "execute_result"
    }
   ],
   "source": [
    "df[['Title', 'Age']].groupby(['Title']).mean()"
   ]
  },
  {
   "cell_type": "code",
   "execution_count": 549,
   "metadata": {
    "_cell_guid": "b81954da-2e36-410f-9505-c6b7ae26803f",
    "_execution_state": "idle",
    "_uuid": "ba25e608acce46fba9b0c623f8b62b91f29151a7",
    "colab": {
     "base_uri": "https://localhost:8080/",
     "height": 235
    },
    "id": "ynrivvMlN_BA",
    "outputId": "4a181214-fb3e-4b97-f483-d01a57894167"
   },
   "outputs": [
    {
     "data": {
      "text/html": [
       "<div>\n",
       "<style scoped>\n",
       "    .dataframe tbody tr th:only-of-type {\n",
       "        vertical-align: middle;\n",
       "    }\n",
       "\n",
       "    .dataframe tbody tr th {\n",
       "        vertical-align: top;\n",
       "    }\n",
       "\n",
       "    .dataframe thead th {\n",
       "        text-align: right;\n",
       "    }\n",
       "</style>\n",
       "<table border=\"1\" class=\"dataframe\">\n",
       "  <thead>\n",
       "    <tr style=\"text-align: right;\">\n",
       "      <th></th>\n",
       "      <th>Age</th>\n",
       "    </tr>\n",
       "    <tr>\n",
       "      <th>Title</th>\n",
       "      <th></th>\n",
       "    </tr>\n",
       "  </thead>\n",
       "  <tbody>\n",
       "    <tr>\n",
       "      <th>Master</th>\n",
       "      <td>4.161554</td>\n",
       "    </tr>\n",
       "    <tr>\n",
       "      <th>Miss</th>\n",
       "      <td>12.192794</td>\n",
       "    </tr>\n",
       "    <tr>\n",
       "      <th>Mr</th>\n",
       "      <td>12.422089</td>\n",
       "    </tr>\n",
       "    <tr>\n",
       "      <th>Mrs</th>\n",
       "      <td>12.872625</td>\n",
       "    </tr>\n",
       "    <tr>\n",
       "      <th>Others</th>\n",
       "      <td>11.303253</td>\n",
       "    </tr>\n",
       "  </tbody>\n",
       "</table>\n",
       "</div>"
      ],
      "text/plain": [
       "              Age\n",
       "Title            \n",
       "Master   4.161554\n",
       "Miss    12.192794\n",
       "Mr      12.422089\n",
       "Mrs     12.872625\n",
       "Others  11.303253"
      ]
     },
     "execution_count": 549,
     "metadata": {
      "tags": []
     },
     "output_type": "execute_result"
    }
   ],
   "source": [
    "df[['Title', 'Age']].groupby(['Title']).std()"
   ]
  },
  {
   "cell_type": "code",
   "execution_count": 550,
   "metadata": {
    "_cell_guid": "020c9de0-ff1c-4eed-be20-cbff19cac018",
    "_execution_state": "idle",
    "_uuid": "9334adf52175fe53abf8138378f4a83efaf77ffb",
    "colab": {
     "base_uri": "https://localhost:8080/"
    },
    "id": "H9vy4LFBN_Bz",
    "outputId": "cbeae93b-28ea-49e6-8a52-5be5ad253bfe"
   },
   "outputs": [
    {
     "data": {
      "text/plain": [
       "0"
      ]
     },
     "execution_count": 550,
     "metadata": {
      "tags": []
     },
     "output_type": "execute_result"
    }
   ],
   "source": [
    "df_sub = df[['Age','Master','Miss','Mr','Mrs','Others','SibSp']]\n",
    "\n",
    "X_train  = df_sub.dropna().drop('Age', axis=1)\n",
    "y_train  = df['Age'].dropna()\n",
    "X_test = df_sub.loc[np.isnan(df.Age)].drop('Age', axis=1)\n",
    "\n",
    "regressor = RandomForestRegressor(n_estimators = 300)\n",
    "regressor.fit(X_train, y_train)\n",
    "y_pred = np.round(regressor.predict(X_test),1)\n",
    "df.Age.loc[df.Age.isnull()] = y_pred\n",
    "df.Age.isnull().sum(axis=0) "
   ]
  },
  {
   "cell_type": "markdown",
   "metadata": {
    "_cell_guid": "380e18ed-ce81-4a4c-ac47-bc8ac4db8122",
    "_execution_state": "idle",
    "_uuid": "9b02b9181f1224830ad4a93cb0477aa278ec4d38",
    "id": "W23OcaYIN-92"
   },
   "source": [
    "### Ticket Analysis"
   ]
  },
  {
   "cell_type": "code",
   "execution_count": 551,
   "metadata": {
    "_cell_guid": "3e355a5b-65dc-4072-9cf8-2aa9e2c5c311",
    "_execution_state": "idle",
    "_uuid": "09ad80a90051b181a3ffd1dd7deb7671dbce32b8",
    "colab": {
     "base_uri": "https://localhost:8080/"
    },
    "id": "D04z0nbAN-93",
    "outputId": "e5666a3e-f925-4974-822b-c6224bb5be28"
   },
   "outputs": [
    {
     "data": {
      "text/plain": [
       "0"
      ]
     },
     "execution_count": 551,
     "metadata": {
      "tags": []
     },
     "output_type": "execute_result"
    }
   ],
   "source": [
    "df.Ticket.isnull().sum()"
   ]
  },
  {
   "cell_type": "code",
   "execution_count": 552,
   "metadata": {
    "_cell_guid": "dce618df-3f32-45a2-814b-ef392c2248b3",
    "_execution_state": "idle",
    "_uuid": "c8f76441795cf10e50a38c538da303a488741d08",
    "colab": {
     "base_uri": "https://localhost:8080/"
    },
    "id": "DL276mdzN-97",
    "outputId": "c6e66d5d-b05e-465b-b663-fa1d91a568fc"
   },
   "outputs": [
    {
     "data": {
      "text/plain": [
       "0            A/5 21171\n",
       "1             PC 17599\n",
       "2     STON/O2. 3101282\n",
       "3               113803\n",
       "4               373450\n",
       "5               330877\n",
       "6                17463\n",
       "7               349909\n",
       "8               347742\n",
       "9               237736\n",
       "10             PP 9549\n",
       "11              113783\n",
       "12           A/5. 2151\n",
       "13              347082\n",
       "14              350406\n",
       "15              248706\n",
       "16              382652\n",
       "17              244373\n",
       "18              345763\n",
       "19                2649\n",
       "Name: Ticket, dtype: object"
      ]
     },
     "execution_count": 552,
     "metadata": {
      "tags": []
     },
     "output_type": "execute_result"
    }
   ],
   "source": [
    "df.Ticket.head(20)"
   ]
  },
  {
   "cell_type": "code",
   "execution_count": 553,
   "metadata": {
    "_cell_guid": "78913d9b-373b-41ad-bb86-2c4e3b18e183",
    "_execution_state": "idle",
    "_uuid": "4200860d04ec1319a5fa456a11ffe1f7138b7eb8",
    "colab": {
     "base_uri": "https://localhost:8080/",
     "height": 545
    },
    "id": "fKO6QyBqN-9_",
    "outputId": "1e22eef8-0a9f-4534-b661-281db37387c9"
   },
   "outputs": [
    {
     "data": {
      "text/html": [
       "<div>\n",
       "<style scoped>\n",
       "    .dataframe tbody tr th:only-of-type {\n",
       "        vertical-align: middle;\n",
       "    }\n",
       "\n",
       "    .dataframe tbody tr th {\n",
       "        vertical-align: top;\n",
       "    }\n",
       "\n",
       "    .dataframe thead th {\n",
       "        text-align: right;\n",
       "    }\n",
       "</style>\n",
       "<table border=\"1\" class=\"dataframe\">\n",
       "  <thead>\n",
       "    <tr style=\"text-align: right;\">\n",
       "      <th></th>\n",
       "      <th>Ticket</th>\n",
       "      <th>Survived</th>\n",
       "    </tr>\n",
       "  </thead>\n",
       "  <tbody>\n",
       "    <tr>\n",
       "      <th>0</th>\n",
       "      <td>1</td>\n",
       "      <td>0.630137</td>\n",
       "    </tr>\n",
       "    <tr>\n",
       "      <th>1</th>\n",
       "      <td>2</td>\n",
       "      <td>0.464481</td>\n",
       "    </tr>\n",
       "    <tr>\n",
       "      <th>2</th>\n",
       "      <td>3</td>\n",
       "      <td>0.239203</td>\n",
       "    </tr>\n",
       "    <tr>\n",
       "      <th>3</th>\n",
       "      <td>4</td>\n",
       "      <td>0.200000</td>\n",
       "    </tr>\n",
       "    <tr>\n",
       "      <th>4</th>\n",
       "      <td>5</td>\n",
       "      <td>0.000000</td>\n",
       "    </tr>\n",
       "    <tr>\n",
       "      <th>5</th>\n",
       "      <td>6</td>\n",
       "      <td>0.166667</td>\n",
       "    </tr>\n",
       "    <tr>\n",
       "      <th>6</th>\n",
       "      <td>7</td>\n",
       "      <td>0.111111</td>\n",
       "    </tr>\n",
       "    <tr>\n",
       "      <th>7</th>\n",
       "      <td>8</td>\n",
       "      <td>0.000000</td>\n",
       "    </tr>\n",
       "    <tr>\n",
       "      <th>8</th>\n",
       "      <td>9</td>\n",
       "      <td>1.000000</td>\n",
       "    </tr>\n",
       "    <tr>\n",
       "      <th>9</th>\n",
       "      <td>A</td>\n",
       "      <td>0.068966</td>\n",
       "    </tr>\n",
       "    <tr>\n",
       "      <th>10</th>\n",
       "      <td>C</td>\n",
       "      <td>0.340426</td>\n",
       "    </tr>\n",
       "    <tr>\n",
       "      <th>11</th>\n",
       "      <td>F</td>\n",
       "      <td>0.571429</td>\n",
       "    </tr>\n",
       "    <tr>\n",
       "      <th>12</th>\n",
       "      <td>L</td>\n",
       "      <td>0.250000</td>\n",
       "    </tr>\n",
       "    <tr>\n",
       "      <th>13</th>\n",
       "      <td>P</td>\n",
       "      <td>0.646154</td>\n",
       "    </tr>\n",
       "    <tr>\n",
       "      <th>14</th>\n",
       "      <td>S</td>\n",
       "      <td>0.323077</td>\n",
       "    </tr>\n",
       "    <tr>\n",
       "      <th>15</th>\n",
       "      <td>W</td>\n",
       "      <td>0.153846</td>\n",
       "    </tr>\n",
       "  </tbody>\n",
       "</table>\n",
       "</div>"
      ],
      "text/plain": [
       "   Ticket  Survived\n",
       "0       1  0.630137\n",
       "1       2  0.464481\n",
       "2       3  0.239203\n",
       "3       4  0.200000\n",
       "4       5  0.000000\n",
       "5       6  0.166667\n",
       "6       7  0.111111\n",
       "7       8  0.000000\n",
       "8       9  1.000000\n",
       "9       A  0.068966\n",
       "10      C  0.340426\n",
       "11      F  0.571429\n",
       "12      L  0.250000\n",
       "13      P  0.646154\n",
       "14      S  0.323077\n",
       "15      W  0.153846"
      ]
     },
     "execution_count": 553,
     "metadata": {
      "tags": []
     },
     "output_type": "execute_result"
    }
   ],
   "source": [
    "df.Ticket = df.Ticket.map(lambda x: x[0])\n",
    "df[['Ticket', 'Survived']].groupby(['Ticket'], as_index=False).mean()"
   ]
  },
  {
   "cell_type": "code",
   "execution_count": 554,
   "metadata": {
    "_cell_guid": "7b0bc205-5f92-4ba1-9a52-8c6b2bb91093",
    "_execution_state": "idle",
    "_uuid": "1c5a38e61a105b5ad40fc1f159725c30c65e71bc",
    "colab": {
     "base_uri": "https://localhost:8080/"
    },
    "id": "tEldAl7cN_CA",
    "outputId": "980a99de-aa79-4b55-baf4-7dc414194f32"
   },
   "outputs": [
    {
     "data": {
      "text/plain": [
       "3    429\n",
       "2    278\n",
       "1    210\n",
       "S     98\n",
       "P     98\n",
       "C     77\n",
       "A     42\n",
       "W     19\n",
       "7     13\n",
       "F     13\n",
       "4     11\n",
       "6      9\n",
       "L      5\n",
       "5      3\n",
       "9      2\n",
       "8      2\n",
       "Name: Ticket, dtype: int64"
      ]
     },
     "execution_count": 554,
     "metadata": {
      "tags": []
     },
     "output_type": "execute_result"
    }
   ],
   "source": [
    "df['Ticket'].value_counts()"
   ]
  },
  {
   "cell_type": "code",
   "execution_count": 555,
   "metadata": {
    "_cell_guid": "58fe643e-abf9-4761-bba1-674d3304aba2",
    "_execution_state": "idle",
    "_uuid": "7f12fa7d7d6ee803835e5768b9da2a92e1468969",
    "colab": {
     "base_uri": "https://localhost:8080/",
     "height": 297
    },
    "id": "4h-tImabN_CE",
    "outputId": "bb2721ee-4b5f-424e-ac64-ad394fe5c70b"
   },
   "outputs": [
    {
     "data": {
      "text/html": [
       "<div>\n",
       "<style scoped>\n",
       "    .dataframe tbody tr th:only-of-type {\n",
       "        vertical-align: middle;\n",
       "    }\n",
       "\n",
       "    .dataframe tbody tr th {\n",
       "        vertical-align: top;\n",
       "    }\n",
       "\n",
       "    .dataframe thead th {\n",
       "        text-align: right;\n",
       "    }\n",
       "</style>\n",
       "<table border=\"1\" class=\"dataframe\">\n",
       "  <thead>\n",
       "    <tr style=\"text-align: right;\">\n",
       "      <th></th>\n",
       "      <th>Ticket</th>\n",
       "      <th>Survived</th>\n",
       "    </tr>\n",
       "  </thead>\n",
       "  <tbody>\n",
       "    <tr>\n",
       "      <th>0</th>\n",
       "      <td>1</td>\n",
       "      <td>0.630137</td>\n",
       "    </tr>\n",
       "    <tr>\n",
       "      <th>1</th>\n",
       "      <td>2</td>\n",
       "      <td>0.464481</td>\n",
       "    </tr>\n",
       "    <tr>\n",
       "      <th>2</th>\n",
       "      <td>3</td>\n",
       "      <td>0.239203</td>\n",
       "    </tr>\n",
       "    <tr>\n",
       "      <th>3</th>\n",
       "      <td>4</td>\n",
       "      <td>0.200000</td>\n",
       "    </tr>\n",
       "    <tr>\n",
       "      <th>4</th>\n",
       "      <td>C</td>\n",
       "      <td>0.340426</td>\n",
       "    </tr>\n",
       "    <tr>\n",
       "      <th>5</th>\n",
       "      <td>P</td>\n",
       "      <td>0.646154</td>\n",
       "    </tr>\n",
       "    <tr>\n",
       "      <th>6</th>\n",
       "      <td>S</td>\n",
       "      <td>0.323077</td>\n",
       "    </tr>\n",
       "    <tr>\n",
       "      <th>7</th>\n",
       "      <td>others</td>\n",
       "      <td>0.162162</td>\n",
       "    </tr>\n",
       "  </tbody>\n",
       "</table>\n",
       "</div>"
      ],
      "text/plain": [
       "   Ticket  Survived\n",
       "0       1  0.630137\n",
       "1       2  0.464481\n",
       "2       3  0.239203\n",
       "3       4  0.200000\n",
       "4       C  0.340426\n",
       "5       P  0.646154\n",
       "6       S  0.323077\n",
       "7  others  0.162162"
      ]
     },
     "execution_count": 555,
     "metadata": {
      "tags": []
     },
     "output_type": "execute_result"
    }
   ],
   "source": [
    "df['Ticket'] = df['Ticket'].replace(['A','W','F','L','5','6','7','8','9'], 'others')\n",
    "\n",
    "df[['Ticket', 'Survived']].groupby(['Ticket'], as_index=False).mean()"
   ]
  },
  {
   "cell_type": "code",
   "execution_count": 556,
   "metadata": {
    "_cell_guid": "76238516-9a91-4238-8fc7-abdd64af5435",
    "_execution_state": "idle",
    "_uuid": "ac5457d8c3d71e35495d2aeaca2008cabc1b0bae",
    "id": "Xl9OCxRFN_CM"
   },
   "outputs": [],
   "source": [
    "df = pd.get_dummies(df,columns=['Ticket'])"
   ]
  },
  {
   "cell_type": "markdown",
   "metadata": {
    "_cell_guid": "3830c0ea-b163-4e51-b41a-212481e2684d",
    "_execution_state": "idle",
    "_uuid": "ad7631b36daae060b7159e668f30da96d28c8ff8",
    "id": "_n1M1xn5N_CQ"
   },
   "source": [
    "## Trainning and Testing\n"
   ]
  },
  {
   "cell_type": "code",
   "execution_count": 557,
   "metadata": {
    "id": "QvXvIOjn9vbq"
   },
   "outputs": [],
   "source": [
    "#from sklearn.model_selection import train_test_split\n",
    "#df = df.drop(labels=['SibSp','Parch','Fare','Title','PassengerId'], axis=1)\n",
    "#y_true=df[\"Survived\"]\n",
    "#X_train,X_test,y_train,y_test = train_test_split(df,y_true,test_size=0.2,random_state=0)"
   ]
  },
  {
   "cell_type": "code",
   "execution_count": 558,
   "metadata": {
    "_cell_guid": "e859e686-72db-4608-a89e-24a9e9b52e47",
    "_execution_state": "idle",
    "_uuid": "df4d6e82a6a6fac2c995d55f829085f9afee3267",
    "id": "18iX-QugN_CR"
   },
   "outputs": [],
   "source": [
    "df = df.drop(labels=['SibSp','Parch','Fare','Title','PassengerId'], axis=1)\n",
    "y_train = df[0:891]['Survived'].values\n",
    "X_train = df[0:891].drop(['Survived'], axis=1).values\n",
    "y_test  = df[891:].drop(['Survived'], axis=1).values"
   ]
  },
  {
   "cell_type": "code",
   "execution_count": 559,
   "metadata": {
    "id": "A38BeJJb8Bbi"
   },
   "outputs": [],
   "source": [
    "#from sklearn.metrics import accuracy_score\n",
    "#from sklearn.metrics import confusion_matrix\n",
    "\n",
    "#def Model(model,name):\n",
    "#    model.fit(X_train,y_train)\n",
    "#    score = model.score(X_test, y_test)\n",
    "#    model_train_score = model.score(X_train, y_train)\n",
    "#    model_test_score = model.score(X_test, y_test)\n",
    "#    prediction = model.predict(X_test)\n",
    "#    print('{} Trainng Score {}\\n'.format(name,model_train_score))\n",
    "#    print('{} Testing Score {}\\n'.format(name,model_test_score))\n",
    "#    print('{} Testing Score {}\\n'.format(name,score))"
   ]
  },
  {
   "cell_type": "code",
   "execution_count": 560,
   "metadata": {
    "id": "ULu7lrLj8WsN"
   },
   "outputs": [],
   "source": [
    "#from sklearn import svm\n",
    "#clf = svm.SVC()\n",
    "#Model(clf,\"SVM\")"
   ]
  },
  {
   "cell_type": "code",
   "execution_count": 561,
   "metadata": {
    "id": "9FvTizZV_Vlc"
   },
   "outputs": [],
   "source": [
    "\n",
    "#from sklearn.linear_model import LogisticRegression\n",
    "#lr=LogisticRegression()\n",
    "#Model(lr,\"Logistic Regression\")"
   ]
  },
  {
   "cell_type": "code",
   "execution_count": 562,
   "metadata": {
    "_cell_guid": "1b0b8eed-36fc-4d4c-8ef1-1dc96becdc39",
    "_execution_state": "idle",
    "_uuid": "1dfd64f73918b8cacdb76f40a0a969c46accaefc",
    "id": "3uc77HXCN_CW"
   },
   "outputs": [],
   "source": [
    "from keras.initializers import glorot_uniform\n",
    "model = Sequential()\n",
    "model.add(Dense(9, activation = 'relu', input_dim = 16))\n",
    "model.add(Dense(9,  activation = 'relu'))\n",
    "model.add(Dense(5,  activation = 'relu'))\n",
    "model.add(Dense(1,  activation = 'sigmoid'))"
   ]
  },
  {
   "cell_type": "code",
   "execution_count": 563,
   "metadata": {
    "colab": {
     "base_uri": "https://localhost:8080/"
    },
    "id": "wkCq_EiRN_Ca",
    "outputId": "b65a8395-9801-44d3-a37a-3e883a0bbd81"
   },
   "outputs": [
    {
     "name": "stdout",
     "output_type": "stream",
     "text": [
      "Epoch 1/500\n",
      "891/891 [==============================] - 0s 136us/step - loss: 0.3476 - accuracy: 0.6139\n",
      "Epoch 2/500\n",
      "891/891 [==============================] - 0s 42us/step - loss: 0.2688 - accuracy: 0.6285\n",
      "Epoch 3/500\n",
      "891/891 [==============================] - 0s 40us/step - loss: 0.2297 - accuracy: 0.6319\n",
      "Epoch 4/500\n",
      "891/891 [==============================] - 0s 42us/step - loss: 0.2176 - accuracy: 0.6756\n",
      "Epoch 5/500\n",
      "891/891 [==============================] - 0s 41us/step - loss: 0.2018 - accuracy: 0.6880\n",
      "Epoch 6/500\n",
      "891/891 [==============================] - 0s 45us/step - loss: 0.1883 - accuracy: 0.7520\n",
      "Epoch 7/500\n",
      "891/891 [==============================] - 0s 40us/step - loss: 0.1763 - accuracy: 0.7475\n",
      "Epoch 8/500\n",
      "891/891 [==============================] - 0s 40us/step - loss: 0.1687 - accuracy: 0.7497\n",
      "Epoch 9/500\n",
      "891/891 [==============================] - 0s 42us/step - loss: 0.1556 - accuracy: 0.7811\n",
      "Epoch 10/500\n",
      "891/891 [==============================] - 0s 44us/step - loss: 0.1483 - accuracy: 0.8025\n",
      "Epoch 11/500\n",
      "891/891 [==============================] - 0s 41us/step - loss: 0.1431 - accuracy: 0.8036\n",
      "Epoch 12/500\n",
      "891/891 [==============================] - 0s 46us/step - loss: 0.1453 - accuracy: 0.7890\n",
      "Epoch 13/500\n",
      "891/891 [==============================] - 0s 64us/step - loss: 0.1394 - accuracy: 0.8058\n",
      "Epoch 14/500\n",
      "891/891 [==============================] - 0s 39us/step - loss: 0.1381 - accuracy: 0.8058\n",
      "Epoch 15/500\n",
      "891/891 [==============================] - 0s 38us/step - loss: 0.1386 - accuracy: 0.7980\n",
      "Epoch 16/500\n",
      "891/891 [==============================] - 0s 44us/step - loss: 0.1365 - accuracy: 0.8092\n",
      "Epoch 17/500\n",
      "891/891 [==============================] - 0s 40us/step - loss: 0.1353 - accuracy: 0.8036\n",
      "Epoch 18/500\n",
      "891/891 [==============================] - 0s 38us/step - loss: 0.1352 - accuracy: 0.8058\n",
      "Epoch 19/500\n",
      "891/891 [==============================] - 0s 45us/step - loss: 0.1345 - accuracy: 0.8092\n",
      "Epoch 20/500\n",
      "891/891 [==============================] - 0s 38us/step - loss: 0.1352 - accuracy: 0.8036\n",
      "Epoch 21/500\n",
      "891/891 [==============================] - 0s 39us/step - loss: 0.1335 - accuracy: 0.8148\n",
      "Epoch 22/500\n",
      "891/891 [==============================] - 0s 41us/step - loss: 0.1344 - accuracy: 0.8070\n",
      "Epoch 23/500\n",
      "891/891 [==============================] - 0s 39us/step - loss: 0.1333 - accuracy: 0.8092\n",
      "Epoch 24/500\n",
      "891/891 [==============================] - 0s 39us/step - loss: 0.1341 - accuracy: 0.8013\n",
      "Epoch 25/500\n",
      "891/891 [==============================] - 0s 42us/step - loss: 0.1372 - accuracy: 0.7957\n",
      "Epoch 26/500\n",
      "891/891 [==============================] - 0s 40us/step - loss: 0.1319 - accuracy: 0.8070\n",
      "Epoch 27/500\n",
      "891/891 [==============================] - 0s 45us/step - loss: 0.1320 - accuracy: 0.8182\n",
      "Epoch 28/500\n",
      "891/891 [==============================] - 0s 39us/step - loss: 0.1308 - accuracy: 0.8126\n",
      "Epoch 29/500\n",
      "891/891 [==============================] - 0s 40us/step - loss: 0.1307 - accuracy: 0.8148\n",
      "Epoch 30/500\n",
      "891/891 [==============================] - 0s 40us/step - loss: 0.1329 - accuracy: 0.8137\n",
      "Epoch 31/500\n",
      "891/891 [==============================] - 0s 39us/step - loss: 0.1300 - accuracy: 0.8159\n",
      "Epoch 32/500\n",
      "891/891 [==============================] - 0s 44us/step - loss: 0.1333 - accuracy: 0.8148\n",
      "Epoch 33/500\n",
      "891/891 [==============================] - 0s 46us/step - loss: 0.1316 - accuracy: 0.8126\n",
      "Epoch 34/500\n",
      "891/891 [==============================] - 0s 43us/step - loss: 0.1318 - accuracy: 0.8081\n",
      "Epoch 35/500\n",
      "891/891 [==============================] - 0s 46us/step - loss: 0.1296 - accuracy: 0.8227\n",
      "Epoch 36/500\n",
      "891/891 [==============================] - 0s 52us/step - loss: 0.1306 - accuracy: 0.8114\n",
      "Epoch 37/500\n",
      "891/891 [==============================] - 0s 45us/step - loss: 0.1308 - accuracy: 0.8137\n",
      "Epoch 38/500\n",
      "891/891 [==============================] - 0s 42us/step - loss: 0.1299 - accuracy: 0.8215\n",
      "Epoch 39/500\n",
      "891/891 [==============================] - 0s 45us/step - loss: 0.1319 - accuracy: 0.8159\n",
      "Epoch 40/500\n",
      "891/891 [==============================] - 0s 42us/step - loss: 0.1299 - accuracy: 0.8148\n",
      "Epoch 41/500\n",
      "891/891 [==============================] - 0s 40us/step - loss: 0.1297 - accuracy: 0.8171\n",
      "Epoch 42/500\n",
      "891/891 [==============================] - 0s 41us/step - loss: 0.1305 - accuracy: 0.8148\n",
      "Epoch 43/500\n",
      "891/891 [==============================] - 0s 39us/step - loss: 0.1307 - accuracy: 0.8159\n",
      "Epoch 44/500\n",
      "891/891 [==============================] - 0s 48us/step - loss: 0.1285 - accuracy: 0.8249\n",
      "Epoch 45/500\n",
      "891/891 [==============================] - 0s 41us/step - loss: 0.1295 - accuracy: 0.8238\n",
      "Epoch 46/500\n",
      "891/891 [==============================] - 0s 41us/step - loss: 0.1333 - accuracy: 0.8081\n",
      "Epoch 47/500\n",
      "891/891 [==============================] - 0s 41us/step - loss: 0.1291 - accuracy: 0.8204\n",
      "Epoch 48/500\n",
      "891/891 [==============================] - 0s 43us/step - loss: 0.1298 - accuracy: 0.8171\n",
      "Epoch 49/500\n",
      "891/891 [==============================] - 0s 46us/step - loss: 0.1298 - accuracy: 0.8249\n",
      "Epoch 50/500\n",
      "891/891 [==============================] - 0s 40us/step - loss: 0.1297 - accuracy: 0.8114\n",
      "Epoch 51/500\n",
      "891/891 [==============================] - 0s 40us/step - loss: 0.1285 - accuracy: 0.8249\n",
      "Epoch 52/500\n",
      "891/891 [==============================] - 0s 41us/step - loss: 0.1294 - accuracy: 0.8204\n",
      "Epoch 53/500\n",
      "891/891 [==============================] - 0s 41us/step - loss: 0.1286 - accuracy: 0.8204\n",
      "Epoch 54/500\n",
      "891/891 [==============================] - 0s 44us/step - loss: 0.1287 - accuracy: 0.8227\n",
      "Epoch 55/500\n",
      "891/891 [==============================] - 0s 42us/step - loss: 0.1313 - accuracy: 0.8081\n",
      "Epoch 56/500\n",
      "891/891 [==============================] - 0s 45us/step - loss: 0.1281 - accuracy: 0.8227\n",
      "Epoch 57/500\n",
      "891/891 [==============================] - 0s 42us/step - loss: 0.1282 - accuracy: 0.8272\n",
      "Epoch 58/500\n",
      "891/891 [==============================] - 0s 42us/step - loss: 0.1289 - accuracy: 0.8249\n",
      "Epoch 59/500\n",
      "891/891 [==============================] - 0s 40us/step - loss: 0.1279 - accuracy: 0.8182\n",
      "Epoch 60/500\n",
      "891/891 [==============================] - 0s 39us/step - loss: 0.1283 - accuracy: 0.8227\n",
      "Epoch 61/500\n",
      "891/891 [==============================] - 0s 39us/step - loss: 0.1275 - accuracy: 0.8204\n",
      "Epoch 62/500\n",
      "891/891 [==============================] - 0s 47us/step - loss: 0.1295 - accuracy: 0.8204\n",
      "Epoch 63/500\n",
      "891/891 [==============================] - 0s 40us/step - loss: 0.1300 - accuracy: 0.8159\n",
      "Epoch 64/500\n",
      "891/891 [==============================] - 0s 42us/step - loss: 0.1285 - accuracy: 0.8215\n",
      "Epoch 65/500\n",
      "891/891 [==============================] - 0s 44us/step - loss: 0.1279 - accuracy: 0.8238\n",
      "Epoch 66/500\n",
      "891/891 [==============================] - 0s 42us/step - loss: 0.1280 - accuracy: 0.8126\n",
      "Epoch 67/500\n",
      "891/891 [==============================] - 0s 39us/step - loss: 0.1300 - accuracy: 0.8193\n",
      "Epoch 68/500\n",
      "891/891 [==============================] - 0s 46us/step - loss: 0.1279 - accuracy: 0.8215\n",
      "Epoch 69/500\n",
      "891/891 [==============================] - 0s 44us/step - loss: 0.1276 - accuracy: 0.8249\n",
      "Epoch 70/500\n",
      "891/891 [==============================] - 0s 47us/step - loss: 0.1274 - accuracy: 0.8294\n",
      "Epoch 71/500\n",
      "891/891 [==============================] - 0s 43us/step - loss: 0.1284 - accuracy: 0.8238\n",
      "Epoch 72/500\n",
      "891/891 [==============================] - 0s 47us/step - loss: 0.1279 - accuracy: 0.8305\n",
      "Epoch 73/500\n",
      "891/891 [==============================] - 0s 40us/step - loss: 0.1292 - accuracy: 0.8193\n",
      "Epoch 74/500\n",
      "891/891 [==============================] - 0s 41us/step - loss: 0.1272 - accuracy: 0.8182\n",
      "Epoch 75/500\n",
      "891/891 [==============================] - 0s 38us/step - loss: 0.1313 - accuracy: 0.8114\n",
      "Epoch 76/500\n",
      "891/891 [==============================] - 0s 41us/step - loss: 0.1310 - accuracy: 0.8137\n",
      "Epoch 77/500\n",
      "891/891 [==============================] - 0s 40us/step - loss: 0.1279 - accuracy: 0.8272\n",
      "Epoch 78/500\n",
      "891/891 [==============================] - 0s 40us/step - loss: 0.1285 - accuracy: 0.8272\n",
      "Epoch 79/500\n",
      "891/891 [==============================] - 0s 39us/step - loss: 0.1273 - accuracy: 0.8272\n",
      "Epoch 80/500\n",
      "891/891 [==============================] - 0s 41us/step - loss: 0.1271 - accuracy: 0.8272\n",
      "Epoch 81/500\n",
      "891/891 [==============================] - 0s 48us/step - loss: 0.1268 - accuracy: 0.8193\n",
      "Epoch 82/500\n",
      "891/891 [==============================] - 0s 46us/step - loss: 0.1274 - accuracy: 0.8238\n",
      "Epoch 83/500\n",
      "891/891 [==============================] - 0s 48us/step - loss: 0.1274 - accuracy: 0.8283\n",
      "Epoch 84/500\n",
      "891/891 [==============================] - 0s 45us/step - loss: 0.1283 - accuracy: 0.8215\n",
      "Epoch 85/500\n",
      "891/891 [==============================] - 0s 40us/step - loss: 0.1268 - accuracy: 0.8249\n",
      "Epoch 86/500\n",
      "891/891 [==============================] - 0s 38us/step - loss: 0.1273 - accuracy: 0.8294\n",
      "Epoch 87/500\n",
      "891/891 [==============================] - 0s 42us/step - loss: 0.1282 - accuracy: 0.8137\n",
      "Epoch 88/500\n",
      "891/891 [==============================] - 0s 41us/step - loss: 0.1270 - accuracy: 0.8260\n",
      "Epoch 89/500\n",
      "891/891 [==============================] - 0s 41us/step - loss: 0.1260 - accuracy: 0.8294\n",
      "Epoch 90/500\n",
      "891/891 [==============================] - 0s 42us/step - loss: 0.1308 - accuracy: 0.8171\n",
      "Epoch 91/500\n",
      "891/891 [==============================] - 0s 45us/step - loss: 0.1305 - accuracy: 0.8215\n",
      "Epoch 92/500\n",
      "891/891 [==============================] - 0s 41us/step - loss: 0.1264 - accuracy: 0.8294\n",
      "Epoch 93/500\n",
      "891/891 [==============================] - 0s 51us/step - loss: 0.1259 - accuracy: 0.8328\n",
      "Epoch 94/500\n",
      "891/891 [==============================] - 0s 41us/step - loss: 0.1264 - accuracy: 0.8283\n",
      "Epoch 95/500\n",
      "891/891 [==============================] - 0s 55us/step - loss: 0.1257 - accuracy: 0.8283\n",
      "Epoch 96/500\n",
      "891/891 [==============================] - 0s 44us/step - loss: 0.1267 - accuracy: 0.8249\n",
      "Epoch 97/500\n",
      "891/891 [==============================] - 0s 39us/step - loss: 0.1259 - accuracy: 0.8272\n",
      "Epoch 98/500\n",
      "891/891 [==============================] - 0s 41us/step - loss: 0.1283 - accuracy: 0.8126\n",
      "Epoch 99/500\n",
      "891/891 [==============================] - 0s 42us/step - loss: 0.1263 - accuracy: 0.8294\n",
      "Epoch 100/500\n",
      "891/891 [==============================] - 0s 41us/step - loss: 0.1259 - accuracy: 0.8283\n",
      "Epoch 101/500\n",
      "891/891 [==============================] - 0s 41us/step - loss: 0.1261 - accuracy: 0.8294\n",
      "Epoch 102/500\n",
      "891/891 [==============================] - 0s 40us/step - loss: 0.1258 - accuracy: 0.8305\n",
      "Epoch 103/500\n",
      "891/891 [==============================] - 0s 55us/step - loss: 0.1251 - accuracy: 0.8350\n",
      "Epoch 104/500\n",
      "891/891 [==============================] - 0s 47us/step - loss: 0.1254 - accuracy: 0.8249\n",
      "Epoch 105/500\n",
      "891/891 [==============================] - 0s 52us/step - loss: 0.1259 - accuracy: 0.8249\n",
      "Epoch 106/500\n",
      "891/891 [==============================] - 0s 41us/step - loss: 0.1260 - accuracy: 0.8227\n",
      "Epoch 107/500\n",
      "891/891 [==============================] - 0s 45us/step - loss: 0.1251 - accuracy: 0.8283\n",
      "Epoch 108/500\n",
      "891/891 [==============================] - 0s 43us/step - loss: 0.1258 - accuracy: 0.8283\n",
      "Epoch 109/500\n",
      "891/891 [==============================] - 0s 42us/step - loss: 0.1260 - accuracy: 0.8305\n",
      "Epoch 110/500\n",
      "891/891 [==============================] - 0s 47us/step - loss: 0.1250 - accuracy: 0.8283\n",
      "Epoch 111/500\n",
      "891/891 [==============================] - 0s 43us/step - loss: 0.1266 - accuracy: 0.8283\n",
      "Epoch 112/500\n",
      "891/891 [==============================] - 0s 46us/step - loss: 0.1258 - accuracy: 0.8193\n",
      "Epoch 113/500\n",
      "891/891 [==============================] - 0s 46us/step - loss: 0.1255 - accuracy: 0.8238\n",
      "Epoch 114/500\n",
      "891/891 [==============================] - 0s 65us/step - loss: 0.1254 - accuracy: 0.8260\n",
      "Epoch 115/500\n",
      "891/891 [==============================] - 0s 43us/step - loss: 0.1248 - accuracy: 0.8260\n",
      "Epoch 116/500\n",
      "891/891 [==============================] - 0s 48us/step - loss: 0.1252 - accuracy: 0.8294\n",
      "Epoch 117/500\n",
      "891/891 [==============================] - 0s 45us/step - loss: 0.1245 - accuracy: 0.8361\n",
      "Epoch 118/500\n",
      "891/891 [==============================] - 0s 40us/step - loss: 0.1250 - accuracy: 0.8283\n",
      "Epoch 119/500\n",
      "891/891 [==============================] - 0s 42us/step - loss: 0.1248 - accuracy: 0.8305\n",
      "Epoch 120/500\n",
      "891/891 [==============================] - 0s 46us/step - loss: 0.1277 - accuracy: 0.8204\n",
      "Epoch 121/500\n",
      "891/891 [==============================] - 0s 46us/step - loss: 0.1254 - accuracy: 0.8294\n",
      "Epoch 122/500\n",
      "891/891 [==============================] - 0s 43us/step - loss: 0.1259 - accuracy: 0.8316\n",
      "Epoch 123/500\n",
      "891/891 [==============================] - 0s 43us/step - loss: 0.1243 - accuracy: 0.8305\n",
      "Epoch 124/500\n",
      "891/891 [==============================] - 0s 46us/step - loss: 0.1261 - accuracy: 0.8193\n",
      "Epoch 125/500\n",
      "891/891 [==============================] - 0s 44us/step - loss: 0.1253 - accuracy: 0.8305\n",
      "Epoch 126/500\n",
      "891/891 [==============================] - 0s 43us/step - loss: 0.1262 - accuracy: 0.8159\n",
      "Epoch 127/500\n",
      "891/891 [==============================] - 0s 43us/step - loss: 0.1247 - accuracy: 0.8249\n",
      "Epoch 128/500\n",
      "891/891 [==============================] - 0s 45us/step - loss: 0.1255 - accuracy: 0.8294\n",
      "Epoch 129/500\n",
      "891/891 [==============================] - 0s 51us/step - loss: 0.1251 - accuracy: 0.8249\n",
      "Epoch 130/500\n",
      "891/891 [==============================] - 0s 43us/step - loss: 0.1258 - accuracy: 0.8260\n",
      "Epoch 131/500\n",
      "891/891 [==============================] - 0s 43us/step - loss: 0.1236 - accuracy: 0.8373\n",
      "Epoch 132/500\n",
      "891/891 [==============================] - 0s 50us/step - loss: 0.1249 - accuracy: 0.8272\n",
      "Epoch 133/500\n",
      "891/891 [==============================] - 0s 53us/step - loss: 0.1240 - accuracy: 0.8328\n",
      "Epoch 134/500\n",
      "891/891 [==============================] - 0s 46us/step - loss: 0.1252 - accuracy: 0.8272\n",
      "Epoch 135/500\n",
      "891/891 [==============================] - 0s 41us/step - loss: 0.1243 - accuracy: 0.8283\n",
      "Epoch 136/500\n",
      "891/891 [==============================] - 0s 42us/step - loss: 0.1245 - accuracy: 0.8305\n",
      "Epoch 137/500\n",
      "891/891 [==============================] - 0s 44us/step - loss: 0.1235 - accuracy: 0.8272\n",
      "Epoch 138/500\n",
      "891/891 [==============================] - 0s 47us/step - loss: 0.1247 - accuracy: 0.8294\n",
      "Epoch 139/500\n",
      "891/891 [==============================] - 0s 49us/step - loss: 0.1240 - accuracy: 0.8260\n",
      "Epoch 140/500\n",
      "891/891 [==============================] - 0s 45us/step - loss: 0.1245 - accuracy: 0.8339\n",
      "Epoch 141/500\n",
      "891/891 [==============================] - 0s 45us/step - loss: 0.1261 - accuracy: 0.8204\n",
      "Epoch 142/500\n",
      "891/891 [==============================] - 0s 45us/step - loss: 0.1276 - accuracy: 0.8148\n",
      "Epoch 143/500\n",
      "891/891 [==============================] - 0s 45us/step - loss: 0.1262 - accuracy: 0.8272\n",
      "Epoch 144/500\n",
      "891/891 [==============================] - 0s 44us/step - loss: 0.1249 - accuracy: 0.8260\n",
      "Epoch 145/500\n",
      "891/891 [==============================] - 0s 48us/step - loss: 0.1238 - accuracy: 0.8272\n",
      "Epoch 146/500\n",
      "891/891 [==============================] - 0s 50us/step - loss: 0.1238 - accuracy: 0.8361\n",
      "Epoch 147/500\n",
      "891/891 [==============================] - 0s 42us/step - loss: 0.1240 - accuracy: 0.8283\n",
      "Epoch 148/500\n",
      "891/891 [==============================] - 0s 41us/step - loss: 0.1241 - accuracy: 0.8238\n",
      "Epoch 149/500\n",
      "891/891 [==============================] - 0s 47us/step - loss: 0.1258 - accuracy: 0.8249\n",
      "Epoch 150/500\n",
      "891/891 [==============================] - 0s 42us/step - loss: 0.1253 - accuracy: 0.8272\n",
      "Epoch 151/500\n",
      "891/891 [==============================] - 0s 48us/step - loss: 0.1265 - accuracy: 0.8193\n",
      "Epoch 152/500\n",
      "891/891 [==============================] - 0s 56us/step - loss: 0.1274 - accuracy: 0.8316\n",
      "Epoch 153/500\n",
      "891/891 [==============================] - 0s 47us/step - loss: 0.1237 - accuracy: 0.8238\n",
      "Epoch 154/500\n",
      "891/891 [==============================] - 0s 49us/step - loss: 0.1251 - accuracy: 0.8305\n",
      "Epoch 155/500\n",
      "891/891 [==============================] - 0s 43us/step - loss: 0.1238 - accuracy: 0.8249\n",
      "Epoch 156/500\n",
      "891/891 [==============================] - 0s 51us/step - loss: 0.1250 - accuracy: 0.8249\n",
      "Epoch 157/500\n",
      "891/891 [==============================] - 0s 43us/step - loss: 0.1257 - accuracy: 0.8238\n",
      "Epoch 158/500\n",
      "891/891 [==============================] - 0s 43us/step - loss: 0.1249 - accuracy: 0.8305\n",
      "Epoch 159/500\n",
      "891/891 [==============================] - 0s 42us/step - loss: 0.1240 - accuracy: 0.8283\n",
      "Epoch 160/500\n",
      "891/891 [==============================] - 0s 42us/step - loss: 0.1236 - accuracy: 0.8283\n",
      "Epoch 161/500\n",
      "891/891 [==============================] - 0s 48us/step - loss: 0.1246 - accuracy: 0.8238\n",
      "Epoch 162/500\n",
      "891/891 [==============================] - 0s 53us/step - loss: 0.1246 - accuracy: 0.8294\n",
      "Epoch 163/500\n",
      "891/891 [==============================] - 0s 48us/step - loss: 0.1232 - accuracy: 0.8294\n",
      "Epoch 164/500\n",
      "891/891 [==============================] - 0s 43us/step - loss: 0.1233 - accuracy: 0.8339\n",
      "Epoch 165/500\n",
      "891/891 [==============================] - 0s 44us/step - loss: 0.1235 - accuracy: 0.8316\n",
      "Epoch 166/500\n",
      "891/891 [==============================] - 0s 48us/step - loss: 0.1237 - accuracy: 0.8339\n",
      "Epoch 167/500\n",
      "891/891 [==============================] - 0s 47us/step - loss: 0.1236 - accuracy: 0.8272\n",
      "Epoch 168/500\n",
      "891/891 [==============================] - 0s 45us/step - loss: 0.1237 - accuracy: 0.8361\n",
      "Epoch 169/500\n",
      "891/891 [==============================] - 0s 45us/step - loss: 0.1245 - accuracy: 0.8227\n",
      "Epoch 170/500\n",
      "891/891 [==============================] - 0s 43us/step - loss: 0.1234 - accuracy: 0.8215\n",
      "Epoch 171/500\n",
      "891/891 [==============================] - 0s 41us/step - loss: 0.1225 - accuracy: 0.8328\n",
      "Epoch 172/500\n",
      "891/891 [==============================] - 0s 46us/step - loss: 0.1250 - accuracy: 0.8328\n",
      "Epoch 173/500\n",
      "891/891 [==============================] - 0s 43us/step - loss: 0.1251 - accuracy: 0.8249\n",
      "Epoch 174/500\n",
      "891/891 [==============================] - 0s 44us/step - loss: 0.1238 - accuracy: 0.8339\n",
      "Epoch 175/500\n",
      "891/891 [==============================] - 0s 44us/step - loss: 0.1232 - accuracy: 0.8294\n",
      "Epoch 176/500\n",
      "891/891 [==============================] - 0s 41us/step - loss: 0.1230 - accuracy: 0.8249\n",
      "Epoch 177/500\n",
      "891/891 [==============================] - 0s 48us/step - loss: 0.1232 - accuracy: 0.8260\n",
      "Epoch 178/500\n",
      "891/891 [==============================] - 0s 47us/step - loss: 0.1241 - accuracy: 0.8272\n",
      "Epoch 179/500\n",
      "891/891 [==============================] - 0s 47us/step - loss: 0.1235 - accuracy: 0.8316\n",
      "Epoch 180/500\n",
      "891/891 [==============================] - 0s 48us/step - loss: 0.1226 - accuracy: 0.8339\n",
      "Epoch 181/500\n",
      "891/891 [==============================] - 0s 44us/step - loss: 0.1225 - accuracy: 0.8328\n",
      "Epoch 182/500\n",
      "891/891 [==============================] - 0s 50us/step - loss: 0.1240 - accuracy: 0.8238\n",
      "Epoch 183/500\n",
      "891/891 [==============================] - 0s 43us/step - loss: 0.1232 - accuracy: 0.8182\n",
      "Epoch 184/500\n",
      "891/891 [==============================] - 0s 40us/step - loss: 0.1243 - accuracy: 0.8249\n",
      "Epoch 185/500\n",
      "891/891 [==============================] - 0s 50us/step - loss: 0.1227 - accuracy: 0.8328\n",
      "Epoch 186/500\n",
      "891/891 [==============================] - 0s 44us/step - loss: 0.1247 - accuracy: 0.8260\n",
      "Epoch 187/500\n",
      "891/891 [==============================] - 0s 45us/step - loss: 0.1240 - accuracy: 0.8283\n",
      "Epoch 188/500\n",
      "891/891 [==============================] - 0s 49us/step - loss: 0.1236 - accuracy: 0.8328\n",
      "Epoch 189/500\n",
      "891/891 [==============================] - 0s 45us/step - loss: 0.1230 - accuracy: 0.8260\n",
      "Epoch 190/500\n",
      "891/891 [==============================] - 0s 46us/step - loss: 0.1236 - accuracy: 0.8339\n",
      "Epoch 191/500\n",
      "891/891 [==============================] - 0s 45us/step - loss: 0.1254 - accuracy: 0.8249\n",
      "Epoch 192/500\n",
      "891/891 [==============================] - 0s 49us/step - loss: 0.1221 - accuracy: 0.8373\n",
      "Epoch 193/500\n",
      "891/891 [==============================] - 0s 53us/step - loss: 0.1242 - accuracy: 0.8182\n",
      "Epoch 194/500\n",
      "891/891 [==============================] - 0s 43us/step - loss: 0.1231 - accuracy: 0.8328\n",
      "Epoch 195/500\n",
      "891/891 [==============================] - 0s 44us/step - loss: 0.1241 - accuracy: 0.8215\n",
      "Epoch 196/500\n",
      "891/891 [==============================] - 0s 52us/step - loss: 0.1233 - accuracy: 0.8305\n",
      "Epoch 197/500\n",
      "891/891 [==============================] - 0s 48us/step - loss: 0.1220 - accuracy: 0.8339\n",
      "Epoch 198/500\n",
      "891/891 [==============================] - 0s 50us/step - loss: 0.1229 - accuracy: 0.8260\n",
      "Epoch 199/500\n",
      "891/891 [==============================] - 0s 42us/step - loss: 0.1220 - accuracy: 0.8350\n",
      "Epoch 200/500\n",
      "891/891 [==============================] - 0s 44us/step - loss: 0.1232 - accuracy: 0.8305\n",
      "Epoch 201/500\n",
      "891/891 [==============================] - 0s 46us/step - loss: 0.1237 - accuracy: 0.8294\n",
      "Epoch 202/500\n",
      "891/891 [==============================] - 0s 49us/step - loss: 0.1220 - accuracy: 0.8350\n",
      "Epoch 203/500\n",
      "891/891 [==============================] - 0s 49us/step - loss: 0.1221 - accuracy: 0.8316\n",
      "Epoch 204/500\n",
      "891/891 [==============================] - 0s 46us/step - loss: 0.1238 - accuracy: 0.8238\n",
      "Epoch 205/500\n",
      "891/891 [==============================] - 0s 43us/step - loss: 0.1225 - accuracy: 0.8328\n",
      "Epoch 206/500\n",
      "891/891 [==============================] - 0s 46us/step - loss: 0.1224 - accuracy: 0.8283\n",
      "Epoch 207/500\n",
      "891/891 [==============================] - 0s 50us/step - loss: 0.1222 - accuracy: 0.8316\n",
      "Epoch 208/500\n",
      "891/891 [==============================] - 0s 50us/step - loss: 0.1224 - accuracy: 0.8272\n",
      "Epoch 209/500\n",
      "891/891 [==============================] - 0s 42us/step - loss: 0.1211 - accuracy: 0.8373\n",
      "Epoch 210/500\n",
      "891/891 [==============================] - 0s 54us/step - loss: 0.1226 - accuracy: 0.8238\n",
      "Epoch 211/500\n",
      "891/891 [==============================] - 0s 43us/step - loss: 0.1230 - accuracy: 0.8294\n",
      "Epoch 212/500\n",
      "891/891 [==============================] - 0s 45us/step - loss: 0.1226 - accuracy: 0.8272\n",
      "Epoch 213/500\n",
      "891/891 [==============================] - 0s 49us/step - loss: 0.1229 - accuracy: 0.8249\n",
      "Epoch 214/500\n",
      "891/891 [==============================] - 0s 47us/step - loss: 0.1242 - accuracy: 0.8227\n",
      "Epoch 215/500\n",
      "891/891 [==============================] - 0s 44us/step - loss: 0.1245 - accuracy: 0.8238\n",
      "Epoch 216/500\n",
      "891/891 [==============================] - 0s 46us/step - loss: 0.1233 - accuracy: 0.8283\n",
      "Epoch 217/500\n",
      "891/891 [==============================] - 0s 45us/step - loss: 0.1222 - accuracy: 0.8305\n",
      "Epoch 218/500\n",
      "891/891 [==============================] - 0s 47us/step - loss: 0.1228 - accuracy: 0.8361\n",
      "Epoch 219/500\n",
      "891/891 [==============================] - 0s 46us/step - loss: 0.1221 - accuracy: 0.8294\n",
      "Epoch 220/500\n",
      "891/891 [==============================] - 0s 52us/step - loss: 0.1228 - accuracy: 0.8305\n",
      "Epoch 221/500\n",
      "891/891 [==============================] - 0s 41us/step - loss: 0.1220 - accuracy: 0.8272\n",
      "Epoch 222/500\n",
      "891/891 [==============================] - 0s 41us/step - loss: 0.1215 - accuracy: 0.8339\n",
      "Epoch 223/500\n",
      "891/891 [==============================] - 0s 51us/step - loss: 0.1228 - accuracy: 0.8283\n",
      "Epoch 224/500\n",
      "891/891 [==============================] - 0s 41us/step - loss: 0.1228 - accuracy: 0.8283\n",
      "Epoch 225/500\n",
      "891/891 [==============================] - 0s 43us/step - loss: 0.1224 - accuracy: 0.8294\n",
      "Epoch 226/500\n",
      "891/891 [==============================] - 0s 42us/step - loss: 0.1214 - accuracy: 0.8260\n",
      "Epoch 227/500\n",
      "891/891 [==============================] - 0s 45us/step - loss: 0.1236 - accuracy: 0.8294\n",
      "Epoch 228/500\n",
      "891/891 [==============================] - 0s 48us/step - loss: 0.1228 - accuracy: 0.8260\n",
      "Epoch 229/500\n",
      "891/891 [==============================] - 0s 50us/step - loss: 0.1224 - accuracy: 0.8339\n",
      "Epoch 230/500\n",
      "891/891 [==============================] - 0s 40us/step - loss: 0.1222 - accuracy: 0.8339\n",
      "Epoch 231/500\n",
      "891/891 [==============================] - 0s 46us/step - loss: 0.1217 - accuracy: 0.8283\n",
      "Epoch 232/500\n",
      "891/891 [==============================] - 0s 45us/step - loss: 0.1219 - accuracy: 0.8305\n",
      "Epoch 233/500\n",
      "891/891 [==============================] - 0s 43us/step - loss: 0.1217 - accuracy: 0.8316\n",
      "Epoch 234/500\n",
      "891/891 [==============================] - 0s 43us/step - loss: 0.1221 - accuracy: 0.8238\n",
      "Epoch 235/500\n",
      "891/891 [==============================] - 0s 47us/step - loss: 0.1231 - accuracy: 0.8283\n",
      "Epoch 236/500\n",
      "891/891 [==============================] - 0s 46us/step - loss: 0.1214 - accuracy: 0.8305\n",
      "Epoch 237/500\n",
      "891/891 [==============================] - 0s 47us/step - loss: 0.1217 - accuracy: 0.8350\n",
      "Epoch 238/500\n",
      "891/891 [==============================] - 0s 43us/step - loss: 0.1217 - accuracy: 0.8373\n",
      "Epoch 239/500\n",
      "891/891 [==============================] - 0s 46us/step - loss: 0.1232 - accuracy: 0.8215\n",
      "Epoch 240/500\n",
      "891/891 [==============================] - 0s 46us/step - loss: 0.1215 - accuracy: 0.8316\n",
      "Epoch 241/500\n",
      "891/891 [==============================] - 0s 52us/step - loss: 0.1231 - accuracy: 0.8305\n",
      "Epoch 242/500\n",
      "891/891 [==============================] - 0s 50us/step - loss: 0.1217 - accuracy: 0.8350\n",
      "Epoch 243/500\n",
      "891/891 [==============================] - 0s 43us/step - loss: 0.1215 - accuracy: 0.8328\n",
      "Epoch 244/500\n",
      "891/891 [==============================] - 0s 52us/step - loss: 0.1214 - accuracy: 0.8361\n",
      "Epoch 245/500\n",
      "891/891 [==============================] - 0s 50us/step - loss: 0.1212 - accuracy: 0.8350\n",
      "Epoch 246/500\n",
      "891/891 [==============================] - 0s 47us/step - loss: 0.1228 - accuracy: 0.8294\n",
      "Epoch 247/500\n",
      "891/891 [==============================] - 0s 51us/step - loss: 0.1230 - accuracy: 0.8238\n",
      "Epoch 248/500\n",
      "891/891 [==============================] - 0s 42us/step - loss: 0.1229 - accuracy: 0.8272\n",
      "Epoch 249/500\n",
      "891/891 [==============================] - 0s 45us/step - loss: 0.1231 - accuracy: 0.8272\n",
      "Epoch 250/500\n",
      "891/891 [==============================] - 0s 47us/step - loss: 0.1226 - accuracy: 0.8238\n",
      "Epoch 251/500\n",
      "891/891 [==============================] - 0s 46us/step - loss: 0.1233 - accuracy: 0.8193\n",
      "Epoch 252/500\n",
      "891/891 [==============================] - 0s 46us/step - loss: 0.1223 - accuracy: 0.8350\n",
      "Epoch 253/500\n",
      "891/891 [==============================] - 0s 53us/step - loss: 0.1206 - accuracy: 0.8316\n",
      "Epoch 254/500\n",
      "891/891 [==============================] - 0s 46us/step - loss: 0.1228 - accuracy: 0.8272\n",
      "Epoch 255/500\n",
      "891/891 [==============================] - 0s 50us/step - loss: 0.1216 - accuracy: 0.8361\n",
      "Epoch 256/500\n",
      "891/891 [==============================] - 0s 49us/step - loss: 0.1218 - accuracy: 0.8283\n",
      "Epoch 257/500\n",
      "891/891 [==============================] - 0s 41us/step - loss: 0.1213 - accuracy: 0.8350\n",
      "Epoch 258/500\n",
      "891/891 [==============================] - 0s 47us/step - loss: 0.1229 - accuracy: 0.8305\n",
      "Epoch 259/500\n",
      "891/891 [==============================] - 0s 46us/step - loss: 0.1231 - accuracy: 0.8272\n",
      "Epoch 260/500\n",
      "891/891 [==============================] - 0s 42us/step - loss: 0.1209 - accuracy: 0.8328\n",
      "Epoch 261/500\n",
      "891/891 [==============================] - 0s 49us/step - loss: 0.1214 - accuracy: 0.8406\n",
      "Epoch 262/500\n",
      "891/891 [==============================] - 0s 51us/step - loss: 0.1236 - accuracy: 0.8305\n",
      "Epoch 263/500\n",
      "891/891 [==============================] - 0s 43us/step - loss: 0.1219 - accuracy: 0.8350\n",
      "Epoch 264/500\n",
      "891/891 [==============================] - 0s 46us/step - loss: 0.1211 - accuracy: 0.8350\n",
      "Epoch 265/500\n",
      "891/891 [==============================] - 0s 67us/step - loss: 0.1216 - accuracy: 0.8294\n",
      "Epoch 266/500\n",
      "891/891 [==============================] - 0s 46us/step - loss: 0.1230 - accuracy: 0.8249\n",
      "Epoch 267/500\n",
      "891/891 [==============================] - 0s 48us/step - loss: 0.1216 - accuracy: 0.8260\n",
      "Epoch 268/500\n",
      "891/891 [==============================] - 0s 56us/step - loss: 0.1206 - accuracy: 0.8350\n",
      "Epoch 269/500\n",
      "891/891 [==============================] - 0s 46us/step - loss: 0.1212 - accuracy: 0.8305\n",
      "Epoch 270/500\n",
      "891/891 [==============================] - 0s 46us/step - loss: 0.1220 - accuracy: 0.8339\n",
      "Epoch 271/500\n",
      "891/891 [==============================] - 0s 47us/step - loss: 0.1215 - accuracy: 0.8260\n",
      "Epoch 272/500\n",
      "891/891 [==============================] - 0s 48us/step - loss: 0.1214 - accuracy: 0.8328\n",
      "Epoch 273/500\n",
      "891/891 [==============================] - 0s 48us/step - loss: 0.1213 - accuracy: 0.8294\n",
      "Epoch 274/500\n",
      "891/891 [==============================] - 0s 47us/step - loss: 0.1215 - accuracy: 0.8328\n",
      "Epoch 275/500\n",
      "891/891 [==============================] - 0s 58us/step - loss: 0.1211 - accuracy: 0.8272\n",
      "Epoch 276/500\n",
      "891/891 [==============================] - 0s 50us/step - loss: 0.1220 - accuracy: 0.8215\n",
      "Epoch 277/500\n",
      "891/891 [==============================] - 0s 46us/step - loss: 0.1207 - accuracy: 0.8384\n",
      "Epoch 278/500\n",
      "891/891 [==============================] - 0s 48us/step - loss: 0.1216 - accuracy: 0.8283\n",
      "Epoch 279/500\n",
      "891/891 [==============================] - 0s 47us/step - loss: 0.1203 - accuracy: 0.8384\n",
      "Epoch 280/500\n",
      "891/891 [==============================] - 0s 44us/step - loss: 0.1211 - accuracy: 0.8294\n",
      "Epoch 281/500\n",
      "891/891 [==============================] - 0s 48us/step - loss: 0.1206 - accuracy: 0.8305\n",
      "Epoch 282/500\n",
      "891/891 [==============================] - 0s 47us/step - loss: 0.1208 - accuracy: 0.8384\n",
      "Epoch 283/500\n",
      "891/891 [==============================] - 0s 49us/step - loss: 0.1209 - accuracy: 0.8294\n",
      "Epoch 284/500\n",
      "891/891 [==============================] - 0s 43us/step - loss: 0.1216 - accuracy: 0.8294\n",
      "Epoch 285/500\n",
      "891/891 [==============================] - 0s 52us/step - loss: 0.1216 - accuracy: 0.8328\n",
      "Epoch 286/500\n",
      "891/891 [==============================] - 0s 42us/step - loss: 0.1215 - accuracy: 0.8294\n",
      "Epoch 287/500\n",
      "891/891 [==============================] - 0s 45us/step - loss: 0.1198 - accuracy: 0.8373\n",
      "Epoch 288/500\n",
      "891/891 [==============================] - 0s 42us/step - loss: 0.1204 - accuracy: 0.8339\n",
      "Epoch 289/500\n",
      "891/891 [==============================] - 0s 44us/step - loss: 0.1202 - accuracy: 0.8350\n",
      "Epoch 290/500\n",
      "891/891 [==============================] - 0s 51us/step - loss: 0.1215 - accuracy: 0.8316\n",
      "Epoch 291/500\n",
      "891/891 [==============================] - 0s 44us/step - loss: 0.1221 - accuracy: 0.8260\n",
      "Epoch 292/500\n",
      "891/891 [==============================] - 0s 51us/step - loss: 0.1220 - accuracy: 0.8204\n",
      "Epoch 293/500\n",
      "891/891 [==============================] - 0s 41us/step - loss: 0.1224 - accuracy: 0.8328\n",
      "Epoch 294/500\n",
      "891/891 [==============================] - 0s 51us/step - loss: 0.1216 - accuracy: 0.8316\n",
      "Epoch 295/500\n",
      "891/891 [==============================] - 0s 53us/step - loss: 0.1204 - accuracy: 0.8406\n",
      "Epoch 296/500\n",
      "891/891 [==============================] - 0s 45us/step - loss: 0.1201 - accuracy: 0.8328\n",
      "Epoch 297/500\n",
      "891/891 [==============================] - 0s 42us/step - loss: 0.1224 - accuracy: 0.8294\n",
      "Epoch 298/500\n",
      "891/891 [==============================] - 0s 48us/step - loss: 0.1221 - accuracy: 0.8350\n",
      "Epoch 299/500\n",
      "891/891 [==============================] - 0s 44us/step - loss: 0.1198 - accuracy: 0.8373\n",
      "Epoch 300/500\n",
      "891/891 [==============================] - 0s 49us/step - loss: 0.1199 - accuracy: 0.8384\n",
      "Epoch 301/500\n",
      "891/891 [==============================] - 0s 67us/step - loss: 0.1200 - accuracy: 0.8361\n",
      "Epoch 302/500\n",
      "891/891 [==============================] - 0s 51us/step - loss: 0.1212 - accuracy: 0.8316\n",
      "Epoch 303/500\n",
      "891/891 [==============================] - 0s 41us/step - loss: 0.1202 - accuracy: 0.8350\n",
      "Epoch 304/500\n",
      "891/891 [==============================] - 0s 54us/step - loss: 0.1218 - accuracy: 0.8260\n",
      "Epoch 305/500\n",
      "891/891 [==============================] - 0s 46us/step - loss: 0.1195 - accuracy: 0.8305\n",
      "Epoch 306/500\n",
      "891/891 [==============================] - 0s 47us/step - loss: 0.1196 - accuracy: 0.8373\n",
      "Epoch 307/500\n",
      "891/891 [==============================] - 0s 46us/step - loss: 0.1204 - accuracy: 0.8283\n",
      "Epoch 308/500\n",
      "891/891 [==============================] - 0s 51us/step - loss: 0.1215 - accuracy: 0.8294\n",
      "Epoch 309/500\n",
      "891/891 [==============================] - 0s 44us/step - loss: 0.1205 - accuracy: 0.8350\n",
      "Epoch 310/500\n",
      "891/891 [==============================] - 0s 48us/step - loss: 0.1198 - accuracy: 0.8328\n",
      "Epoch 311/500\n",
      "891/891 [==============================] - 0s 43us/step - loss: 0.1202 - accuracy: 0.8350\n",
      "Epoch 312/500\n",
      "891/891 [==============================] - 0s 50us/step - loss: 0.1213 - accuracy: 0.8316\n",
      "Epoch 313/500\n",
      "891/891 [==============================] - 0s 47us/step - loss: 0.1215 - accuracy: 0.8350\n",
      "Epoch 314/500\n",
      "891/891 [==============================] - 0s 44us/step - loss: 0.1218 - accuracy: 0.8249\n",
      "Epoch 315/500\n",
      "891/891 [==============================] - 0s 52us/step - loss: 0.1232 - accuracy: 0.8272\n",
      "Epoch 316/500\n",
      "891/891 [==============================] - 0s 52us/step - loss: 0.1209 - accuracy: 0.8294\n",
      "Epoch 317/500\n",
      "891/891 [==============================] - 0s 50us/step - loss: 0.1207 - accuracy: 0.8294\n",
      "Epoch 318/500\n",
      "891/891 [==============================] - 0s 51us/step - loss: 0.1211 - accuracy: 0.8339\n",
      "Epoch 319/500\n",
      "891/891 [==============================] - 0s 50us/step - loss: 0.1198 - accuracy: 0.8328\n",
      "Epoch 320/500\n",
      "891/891 [==============================] - 0s 43us/step - loss: 0.1196 - accuracy: 0.8373\n",
      "Epoch 321/500\n",
      "891/891 [==============================] - 0s 49us/step - loss: 0.1217 - accuracy: 0.8215\n",
      "Epoch 322/500\n",
      "891/891 [==============================] - 0s 51us/step - loss: 0.1187 - accuracy: 0.8384\n",
      "Epoch 323/500\n",
      "891/891 [==============================] - 0s 53us/step - loss: 0.1208 - accuracy: 0.8283\n",
      "Epoch 324/500\n",
      "891/891 [==============================] - 0s 45us/step - loss: 0.1202 - accuracy: 0.8305\n",
      "Epoch 325/500\n",
      "891/891 [==============================] - 0s 48us/step - loss: 0.1190 - accuracy: 0.8350\n",
      "Epoch 326/500\n",
      "891/891 [==============================] - 0s 47us/step - loss: 0.1209 - accuracy: 0.8305\n",
      "Epoch 327/500\n",
      "891/891 [==============================] - 0s 49us/step - loss: 0.1196 - accuracy: 0.8373\n",
      "Epoch 328/500\n",
      "891/891 [==============================] - 0s 47us/step - loss: 0.1210 - accuracy: 0.8238\n",
      "Epoch 329/500\n",
      "891/891 [==============================] - 0s 45us/step - loss: 0.1200 - accuracy: 0.8361\n",
      "Epoch 330/500\n",
      "891/891 [==============================] - 0s 45us/step - loss: 0.1207 - accuracy: 0.8361\n",
      "Epoch 331/500\n",
      "891/891 [==============================] - 0s 49us/step - loss: 0.1189 - accuracy: 0.8373\n",
      "Epoch 332/500\n",
      "891/891 [==============================] - 0s 46us/step - loss: 0.1196 - accuracy: 0.8361\n",
      "Epoch 333/500\n",
      "891/891 [==============================] - 0s 44us/step - loss: 0.1201 - accuracy: 0.8429\n",
      "Epoch 334/500\n",
      "891/891 [==============================] - 0s 44us/step - loss: 0.1206 - accuracy: 0.8260\n",
      "Epoch 335/500\n",
      "891/891 [==============================] - 0s 49us/step - loss: 0.1200 - accuracy: 0.8294\n",
      "Epoch 336/500\n",
      "891/891 [==============================] - 0s 41us/step - loss: 0.1190 - accuracy: 0.8305\n",
      "Epoch 337/500\n",
      "891/891 [==============================] - 0s 54us/step - loss: 0.1196 - accuracy: 0.8294\n",
      "Epoch 338/500\n",
      "891/891 [==============================] - 0s 44us/step - loss: 0.1194 - accuracy: 0.8316\n",
      "Epoch 339/500\n",
      "891/891 [==============================] - 0s 48us/step - loss: 0.1190 - accuracy: 0.8373\n",
      "Epoch 340/500\n",
      "891/891 [==============================] - 0s 47us/step - loss: 0.1192 - accuracy: 0.8361\n",
      "Epoch 341/500\n",
      "891/891 [==============================] - 0s 51us/step - loss: 0.1195 - accuracy: 0.8305\n",
      "Epoch 342/500\n",
      "891/891 [==============================] - 0s 45us/step - loss: 0.1185 - accuracy: 0.8361\n",
      "Epoch 343/500\n",
      "891/891 [==============================] - 0s 47us/step - loss: 0.1190 - accuracy: 0.8361\n",
      "Epoch 344/500\n",
      "891/891 [==============================] - 0s 51us/step - loss: 0.1192 - accuracy: 0.8328\n",
      "Epoch 345/500\n",
      "891/891 [==============================] - 0s 47us/step - loss: 0.1194 - accuracy: 0.8350\n",
      "Epoch 346/500\n",
      "891/891 [==============================] - 0s 51us/step - loss: 0.1196 - accuracy: 0.8328\n",
      "Epoch 347/500\n",
      "891/891 [==============================] - 0s 51us/step - loss: 0.1189 - accuracy: 0.8373\n",
      "Epoch 348/500\n",
      "891/891 [==============================] - 0s 50us/step - loss: 0.1194 - accuracy: 0.8373\n",
      "Epoch 349/500\n",
      "891/891 [==============================] - 0s 47us/step - loss: 0.1190 - accuracy: 0.8361\n",
      "Epoch 350/500\n",
      "891/891 [==============================] - 0s 43us/step - loss: 0.1184 - accuracy: 0.8339\n",
      "Epoch 351/500\n",
      "891/891 [==============================] - 0s 51us/step - loss: 0.1210 - accuracy: 0.8339\n",
      "Epoch 352/500\n",
      "891/891 [==============================] - 0s 44us/step - loss: 0.1215 - accuracy: 0.8272\n",
      "Epoch 353/500\n",
      "891/891 [==============================] - 0s 46us/step - loss: 0.1185 - accuracy: 0.8361\n",
      "Epoch 354/500\n",
      "891/891 [==============================] - 0s 48us/step - loss: 0.1183 - accuracy: 0.8418\n",
      "Epoch 355/500\n",
      "891/891 [==============================] - 0s 44us/step - loss: 0.1187 - accuracy: 0.8316\n",
      "Epoch 356/500\n",
      "891/891 [==============================] - 0s 47us/step - loss: 0.1240 - accuracy: 0.8227\n",
      "Epoch 357/500\n",
      "891/891 [==============================] - 0s 49us/step - loss: 0.1210 - accuracy: 0.8260\n",
      "Epoch 358/500\n",
      "891/891 [==============================] - 0s 48us/step - loss: 0.1190 - accuracy: 0.8328\n",
      "Epoch 359/500\n",
      "891/891 [==============================] - 0s 49us/step - loss: 0.1188 - accuracy: 0.8339\n",
      "Epoch 360/500\n",
      "891/891 [==============================] - 0s 52us/step - loss: 0.1190 - accuracy: 0.8272\n",
      "Epoch 361/500\n",
      "891/891 [==============================] - 0s 45us/step - loss: 0.1211 - accuracy: 0.8339\n",
      "Epoch 362/500\n",
      "891/891 [==============================] - 0s 48us/step - loss: 0.1211 - accuracy: 0.8260\n",
      "Epoch 363/500\n",
      "891/891 [==============================] - 0s 57us/step - loss: 0.1191 - accuracy: 0.8373\n",
      "Epoch 364/500\n",
      "891/891 [==============================] - 0s 51us/step - loss: 0.1205 - accuracy: 0.8260\n",
      "Epoch 365/500\n",
      "891/891 [==============================] - 0s 58us/step - loss: 0.1194 - accuracy: 0.8339\n",
      "Epoch 366/500\n",
      "891/891 [==============================] - 0s 48us/step - loss: 0.1177 - accuracy: 0.8429\n",
      "Epoch 367/500\n",
      "891/891 [==============================] - 0s 47us/step - loss: 0.1189 - accuracy: 0.8294\n",
      "Epoch 368/500\n",
      "891/891 [==============================] - 0s 48us/step - loss: 0.1186 - accuracy: 0.8339\n",
      "Epoch 369/500\n",
      "891/891 [==============================] - 0s 45us/step - loss: 0.1183 - accuracy: 0.8361\n",
      "Epoch 370/500\n",
      "891/891 [==============================] - 0s 47us/step - loss: 0.1189 - accuracy: 0.8294\n",
      "Epoch 371/500\n",
      "891/891 [==============================] - 0s 46us/step - loss: 0.1182 - accuracy: 0.8350\n",
      "Epoch 372/500\n",
      "891/891 [==============================] - 0s 47us/step - loss: 0.1197 - accuracy: 0.8283\n",
      "Epoch 373/500\n",
      "891/891 [==============================] - 0s 51us/step - loss: 0.1196 - accuracy: 0.8373\n",
      "Epoch 374/500\n",
      "891/891 [==============================] - 0s 59us/step - loss: 0.1192 - accuracy: 0.8272\n",
      "Epoch 375/500\n",
      "891/891 [==============================] - 0s 46us/step - loss: 0.1195 - accuracy: 0.8328\n",
      "Epoch 376/500\n",
      "891/891 [==============================] - 0s 55us/step - loss: 0.1197 - accuracy: 0.8350\n",
      "Epoch 377/500\n",
      "891/891 [==============================] - 0s 54us/step - loss: 0.1227 - accuracy: 0.8316\n",
      "Epoch 378/500\n",
      "891/891 [==============================] - 0s 45us/step - loss: 0.1217 - accuracy: 0.8204\n",
      "Epoch 379/500\n",
      "891/891 [==============================] - 0s 51us/step - loss: 0.1203 - accuracy: 0.8294\n",
      "Epoch 380/500\n",
      "891/891 [==============================] - 0s 46us/step - loss: 0.1184 - accuracy: 0.8350\n",
      "Epoch 381/500\n",
      "891/891 [==============================] - 0s 50us/step - loss: 0.1185 - accuracy: 0.8418\n",
      "Epoch 382/500\n",
      "891/891 [==============================] - 0s 52us/step - loss: 0.1188 - accuracy: 0.8361\n",
      "Epoch 383/500\n",
      "891/891 [==============================] - 0s 51us/step - loss: 0.1176 - accuracy: 0.8384\n",
      "Epoch 384/500\n",
      "891/891 [==============================] - 0s 53us/step - loss: 0.1186 - accuracy: 0.8361\n",
      "Epoch 385/500\n",
      "891/891 [==============================] - 0s 46us/step - loss: 0.1184 - accuracy: 0.8339\n",
      "Epoch 386/500\n",
      "891/891 [==============================] - 0s 47us/step - loss: 0.1177 - accuracy: 0.8451\n",
      "Epoch 387/500\n",
      "891/891 [==============================] - 0s 54us/step - loss: 0.1192 - accuracy: 0.8350\n",
      "Epoch 388/500\n",
      "891/891 [==============================] - 0s 44us/step - loss: 0.1188 - accuracy: 0.8350\n",
      "Epoch 389/500\n",
      "891/891 [==============================] - 0s 50us/step - loss: 0.1177 - accuracy: 0.8350\n",
      "Epoch 390/500\n",
      "891/891 [==============================] - 0s 49us/step - loss: 0.1189 - accuracy: 0.8316\n",
      "Epoch 391/500\n",
      "891/891 [==============================] - 0s 49us/step - loss: 0.1195 - accuracy: 0.8361\n",
      "Epoch 392/500\n",
      "891/891 [==============================] - 0s 53us/step - loss: 0.1184 - accuracy: 0.8373\n",
      "Epoch 393/500\n",
      "891/891 [==============================] - 0s 49us/step - loss: 0.1214 - accuracy: 0.8215\n",
      "Epoch 394/500\n",
      "891/891 [==============================] - 0s 48us/step - loss: 0.1250 - accuracy: 0.8305\n",
      "Epoch 395/500\n",
      "891/891 [==============================] - 0s 54us/step - loss: 0.1182 - accuracy: 0.8361\n",
      "Epoch 396/500\n",
      "891/891 [==============================] - 0s 55us/step - loss: 0.1181 - accuracy: 0.8328\n",
      "Epoch 397/500\n",
      "891/891 [==============================] - 0s 56us/step - loss: 0.1179 - accuracy: 0.8339\n",
      "Epoch 398/500\n",
      "891/891 [==============================] - 0s 58us/step - loss: 0.1185 - accuracy: 0.8339\n",
      "Epoch 399/500\n",
      "891/891 [==============================] - 0s 47us/step - loss: 0.1179 - accuracy: 0.8316\n",
      "Epoch 400/500\n",
      "891/891 [==============================] - 0s 47us/step - loss: 0.1186 - accuracy: 0.8249\n",
      "Epoch 401/500\n",
      "891/891 [==============================] - 0s 44us/step - loss: 0.1175 - accuracy: 0.8373\n",
      "Epoch 402/500\n",
      "891/891 [==============================] - 0s 46us/step - loss: 0.1186 - accuracy: 0.8260\n",
      "Epoch 403/500\n",
      "891/891 [==============================] - 0s 47us/step - loss: 0.1192 - accuracy: 0.8260\n",
      "Epoch 404/500\n",
      "891/891 [==============================] - 0s 42us/step - loss: 0.1195 - accuracy: 0.8316\n",
      "Epoch 405/500\n",
      "891/891 [==============================] - 0s 51us/step - loss: 0.1176 - accuracy: 0.8418\n",
      "Epoch 406/500\n",
      "891/891 [==============================] - 0s 43us/step - loss: 0.1196 - accuracy: 0.8305\n",
      "Epoch 407/500\n",
      "891/891 [==============================] - 0s 42us/step - loss: 0.1216 - accuracy: 0.8215\n",
      "Epoch 408/500\n",
      "891/891 [==============================] - 0s 54us/step - loss: 0.1204 - accuracy: 0.8260\n",
      "Epoch 409/500\n",
      "891/891 [==============================] - 0s 56us/step - loss: 0.1178 - accuracy: 0.8361\n",
      "Epoch 410/500\n",
      "891/891 [==============================] - 0s 54us/step - loss: 0.1174 - accuracy: 0.8361\n",
      "Epoch 411/500\n",
      "891/891 [==============================] - 0s 49us/step - loss: 0.1178 - accuracy: 0.8373\n",
      "Epoch 412/500\n",
      "891/891 [==============================] - 0s 45us/step - loss: 0.1176 - accuracy: 0.8350\n",
      "Epoch 413/500\n",
      "891/891 [==============================] - 0s 50us/step - loss: 0.1177 - accuracy: 0.8328\n",
      "Epoch 414/500\n",
      "891/891 [==============================] - 0s 50us/step - loss: 0.1179 - accuracy: 0.8328\n",
      "Epoch 415/500\n",
      "891/891 [==============================] - 0s 44us/step - loss: 0.1176 - accuracy: 0.8339\n",
      "Epoch 416/500\n",
      "891/891 [==============================] - 0s 55us/step - loss: 0.1203 - accuracy: 0.8305\n",
      "Epoch 417/500\n",
      "891/891 [==============================] - 0s 49us/step - loss: 0.1182 - accuracy: 0.8339\n",
      "Epoch 418/500\n",
      "891/891 [==============================] - 0s 52us/step - loss: 0.1179 - accuracy: 0.8339\n",
      "Epoch 419/500\n",
      "891/891 [==============================] - 0s 47us/step - loss: 0.1171 - accuracy: 0.8350\n",
      "Epoch 420/500\n",
      "891/891 [==============================] - 0s 43us/step - loss: 0.1175 - accuracy: 0.8395\n",
      "Epoch 421/500\n",
      "891/891 [==============================] - 0s 49us/step - loss: 0.1172 - accuracy: 0.8373\n",
      "Epoch 422/500\n",
      "891/891 [==============================] - 0s 53us/step - loss: 0.1180 - accuracy: 0.8339\n",
      "Epoch 423/500\n",
      "891/891 [==============================] - 0s 49us/step - loss: 0.1184 - accuracy: 0.8384\n",
      "Epoch 424/500\n",
      "891/891 [==============================] - 0s 53us/step - loss: 0.1196 - accuracy: 0.8238\n",
      "Epoch 425/500\n",
      "891/891 [==============================] - 0s 59us/step - loss: 0.1179 - accuracy: 0.8361\n",
      "Epoch 426/500\n",
      "891/891 [==============================] - 0s 54us/step - loss: 0.1191 - accuracy: 0.8305\n",
      "Epoch 427/500\n",
      "891/891 [==============================] - 0s 51us/step - loss: 0.1173 - accuracy: 0.8361\n",
      "Epoch 428/500\n",
      "891/891 [==============================] - 0s 49us/step - loss: 0.1182 - accuracy: 0.8305\n",
      "Epoch 429/500\n",
      "891/891 [==============================] - 0s 48us/step - loss: 0.1176 - accuracy: 0.8316\n",
      "Epoch 430/500\n",
      "891/891 [==============================] - 0s 53us/step - loss: 0.1175 - accuracy: 0.8316\n",
      "Epoch 431/500\n",
      "891/891 [==============================] - 0s 56us/step - loss: 0.1202 - accuracy: 0.8260\n",
      "Epoch 432/500\n",
      "891/891 [==============================] - 0s 44us/step - loss: 0.1177 - accuracy: 0.8350\n",
      "Epoch 433/500\n",
      "891/891 [==============================] - 0s 50us/step - loss: 0.1173 - accuracy: 0.8418\n",
      "Epoch 434/500\n",
      "891/891 [==============================] - 0s 49us/step - loss: 0.1193 - accuracy: 0.8339\n",
      "Epoch 435/500\n",
      "891/891 [==============================] - 0s 46us/step - loss: 0.1173 - accuracy: 0.8316\n",
      "Epoch 436/500\n",
      "891/891 [==============================] - 0s 50us/step - loss: 0.1182 - accuracy: 0.8406\n",
      "Epoch 437/500\n",
      "891/891 [==============================] - 0s 53us/step - loss: 0.1164 - accuracy: 0.8451\n",
      "Epoch 438/500\n",
      "891/891 [==============================] - 0s 50us/step - loss: 0.1202 - accuracy: 0.8249\n",
      "Epoch 439/500\n",
      "891/891 [==============================] - 0s 50us/step - loss: 0.1200 - accuracy: 0.8305\n",
      "Epoch 440/500\n",
      "891/891 [==============================] - 0s 55us/step - loss: 0.1171 - accuracy: 0.8316\n",
      "Epoch 441/500\n",
      "891/891 [==============================] - 0s 48us/step - loss: 0.1174 - accuracy: 0.8429\n",
      "Epoch 442/500\n",
      "891/891 [==============================] - 0s 54us/step - loss: 0.1191 - accuracy: 0.8283\n",
      "Epoch 443/500\n",
      "891/891 [==============================] - 0s 58us/step - loss: 0.1173 - accuracy: 0.8350\n",
      "Epoch 444/500\n",
      "891/891 [==============================] - 0s 53us/step - loss: 0.1181 - accuracy: 0.8384\n",
      "Epoch 445/500\n",
      "891/891 [==============================] - 0s 50us/step - loss: 0.1168 - accuracy: 0.8373\n",
      "Epoch 446/500\n",
      "891/891 [==============================] - 0s 47us/step - loss: 0.1168 - accuracy: 0.8373\n",
      "Epoch 447/500\n",
      "891/891 [==============================] - 0s 52us/step - loss: 0.1178 - accuracy: 0.8384\n",
      "Epoch 448/500\n",
      "891/891 [==============================] - 0s 52us/step - loss: 0.1168 - accuracy: 0.8462\n",
      "Epoch 449/500\n",
      "891/891 [==============================] - 0s 49us/step - loss: 0.1171 - accuracy: 0.8373\n",
      "Epoch 450/500\n",
      "891/891 [==============================] - 0s 56us/step - loss: 0.1181 - accuracy: 0.8406\n",
      "Epoch 451/500\n",
      "891/891 [==============================] - 0s 55us/step - loss: 0.1179 - accuracy: 0.8361\n",
      "Epoch 452/500\n",
      "891/891 [==============================] - 0s 46us/step - loss: 0.1172 - accuracy: 0.8384\n",
      "Epoch 453/500\n",
      "891/891 [==============================] - 0s 54us/step - loss: 0.1171 - accuracy: 0.8384\n",
      "Epoch 454/500\n",
      "891/891 [==============================] - 0s 52us/step - loss: 0.1170 - accuracy: 0.8451\n",
      "Epoch 455/500\n",
      "891/891 [==============================] - 0s 52us/step - loss: 0.1176 - accuracy: 0.8384\n",
      "Epoch 456/500\n",
      "891/891 [==============================] - 0s 47us/step - loss: 0.1174 - accuracy: 0.8384\n",
      "Epoch 457/500\n",
      "891/891 [==============================] - 0s 46us/step - loss: 0.1177 - accuracy: 0.8406\n",
      "Epoch 458/500\n",
      "891/891 [==============================] - 0s 48us/step - loss: 0.1166 - accuracy: 0.8418\n",
      "Epoch 459/500\n",
      "891/891 [==============================] - 0s 47us/step - loss: 0.1166 - accuracy: 0.8339\n",
      "Epoch 460/500\n",
      "891/891 [==============================] - 0s 47us/step - loss: 0.1171 - accuracy: 0.8395\n",
      "Epoch 461/500\n",
      "891/891 [==============================] - 0s 51us/step - loss: 0.1173 - accuracy: 0.8350\n",
      "Epoch 462/500\n",
      "891/891 [==============================] - 0s 50us/step - loss: 0.1172 - accuracy: 0.8406\n",
      "Epoch 463/500\n",
      "891/891 [==============================] - 0s 49us/step - loss: 0.1168 - accuracy: 0.8384\n",
      "Epoch 464/500\n",
      "891/891 [==============================] - 0s 46us/step - loss: 0.1195 - accuracy: 0.8260\n",
      "Epoch 465/500\n",
      "891/891 [==============================] - 0s 50us/step - loss: 0.1188 - accuracy: 0.8339\n",
      "Epoch 466/500\n",
      "891/891 [==============================] - 0s 51us/step - loss: 0.1179 - accuracy: 0.8406\n",
      "Epoch 467/500\n",
      "891/891 [==============================] - 0s 44us/step - loss: 0.1182 - accuracy: 0.8305\n",
      "Epoch 468/500\n",
      "891/891 [==============================] - 0s 56us/step - loss: 0.1169 - accuracy: 0.8350\n",
      "Epoch 469/500\n",
      "891/891 [==============================] - 0s 49us/step - loss: 0.1191 - accuracy: 0.8294\n",
      "Epoch 470/500\n",
      "891/891 [==============================] - 0s 50us/step - loss: 0.1166 - accuracy: 0.8384\n",
      "Epoch 471/500\n",
      "891/891 [==============================] - 0s 59us/step - loss: 0.1175 - accuracy: 0.8328\n",
      "Epoch 472/500\n",
      "891/891 [==============================] - 0s 56us/step - loss: 0.1155 - accuracy: 0.8373\n",
      "Epoch 473/500\n",
      "891/891 [==============================] - 0s 44us/step - loss: 0.1183 - accuracy: 0.8350\n",
      "Epoch 474/500\n",
      "891/891 [==============================] - 0s 48us/step - loss: 0.1181 - accuracy: 0.8373\n",
      "Epoch 475/500\n",
      "891/891 [==============================] - 0s 44us/step - loss: 0.1175 - accuracy: 0.8384\n",
      "Epoch 476/500\n",
      "891/891 [==============================] - 0s 54us/step - loss: 0.1166 - accuracy: 0.8339\n",
      "Epoch 477/500\n",
      "891/891 [==============================] - 0s 52us/step - loss: 0.1201 - accuracy: 0.8316\n",
      "Epoch 478/500\n",
      "891/891 [==============================] - 0s 57us/step - loss: 0.1169 - accuracy: 0.8384\n",
      "Epoch 479/500\n",
      "891/891 [==============================] - 0s 54us/step - loss: 0.1200 - accuracy: 0.8260\n",
      "Epoch 480/500\n",
      "891/891 [==============================] - 0s 50us/step - loss: 0.1187 - accuracy: 0.8418\n",
      "Epoch 481/500\n",
      "891/891 [==============================] - 0s 52us/step - loss: 0.1175 - accuracy: 0.8361\n",
      "Epoch 482/500\n",
      "891/891 [==============================] - 0s 53us/step - loss: 0.1160 - accuracy: 0.8373\n",
      "Epoch 483/500\n",
      "891/891 [==============================] - 0s 53us/step - loss: 0.1183 - accuracy: 0.8328\n",
      "Epoch 484/500\n",
      "891/891 [==============================] - 0s 54us/step - loss: 0.1184 - accuracy: 0.8361\n",
      "Epoch 485/500\n",
      "891/891 [==============================] - 0s 58us/step - loss: 0.1178 - accuracy: 0.8305\n",
      "Epoch 486/500\n",
      "891/891 [==============================] - 0s 57us/step - loss: 0.1170 - accuracy: 0.8350\n",
      "Epoch 487/500\n",
      "891/891 [==============================] - 0s 54us/step - loss: 0.1167 - accuracy: 0.8350\n",
      "Epoch 488/500\n",
      "891/891 [==============================] - 0s 57us/step - loss: 0.1204 - accuracy: 0.8260\n",
      "Epoch 489/500\n",
      "891/891 [==============================] - 0s 51us/step - loss: 0.1175 - accuracy: 0.8350\n",
      "Epoch 490/500\n",
      "891/891 [==============================] - 0s 51us/step - loss: 0.1181 - accuracy: 0.8384\n",
      "Epoch 491/500\n",
      "891/891 [==============================] - 0s 54us/step - loss: 0.1168 - accuracy: 0.8373\n",
      "Epoch 492/500\n",
      "891/891 [==============================] - 0s 47us/step - loss: 0.1158 - accuracy: 0.8384\n",
      "Epoch 493/500\n",
      "891/891 [==============================] - 0s 53us/step - loss: 0.1183 - accuracy: 0.8305\n",
      "Epoch 494/500\n",
      "891/891 [==============================] - 0s 44us/step - loss: 0.1188 - accuracy: 0.8328\n",
      "Epoch 495/500\n",
      "891/891 [==============================] - 0s 48us/step - loss: 0.1159 - accuracy: 0.8361\n",
      "Epoch 496/500\n",
      "891/891 [==============================] - 0s 49us/step - loss: 0.1181 - accuracy: 0.8350\n",
      "Epoch 497/500\n",
      "891/891 [==============================] - 0s 50us/step - loss: 0.1163 - accuracy: 0.8361\n",
      "Epoch 498/500\n",
      "891/891 [==============================] - 0s 50us/step - loss: 0.1164 - accuracy: 0.8361\n",
      "Epoch 499/500\n",
      "891/891 [==============================] - 0s 49us/step - loss: 0.1160 - accuracy: 0.8373\n",
      "Epoch 500/500\n",
      "891/891 [==============================] - 0s 52us/step - loss: 0.1168 - accuracy: 0.8429\n"
     ]
    },
    {
     "data": {
      "text/plain": [
       "<keras.callbacks.callbacks.History at 0x7fa63f84d810>"
      ]
     },
     "execution_count": 563,
     "metadata": {
      "tags": []
     },
     "output_type": "execute_result"
    }
   ],
   "source": [
    "model.compile(optimizer = 'adam', loss = 'mean_squared_error', metrics = ['accuracy'])\n",
    "\n",
    "model.fit(X_train, y_train, batch_size = 32 , epochs = 500)"
   ]
  },
  {
   "cell_type": "markdown",
   "metadata": {
    "id": "U0mIsSrfPZFH"
   },
   "source": [
    "##Prediction"
   ]
  },
  {
   "cell_type": "code",
   "execution_count": 564,
   "metadata": {
    "_cell_guid": "4a651081-886a-4a9a-8324-a264483d0721",
    "_execution_state": "idle",
    "_uuid": "7a6c2f2885d7caf67993db99f6880d53e5880372",
    "id": "x6EPK5oJN_Ce"
   },
   "outputs": [],
   "source": [
    "#y_pred = model.predict(X_test,batch_size=32)\n",
    "#y_final = (y_pred > 0.5).astype(int).reshape(X_test.shape[0])\n",
    "\n",
    "#predicted_table = pd.DataFrame({'PassengerId': df_test['PassengerId'],'Age': df_test['Age'],'Sex': df_test['Sex'], 'Survived': y_final})\n",
    "#predicted_table.to_csv('/content/predicted.csv', index=False)"
   ]
  }
 ],
 "metadata": {
  "colab": {
   "collapsed_sections": [],
   "name": "titanic_project.ipynb",
   "provenance": []
  },
  "kernelspec": {
   "display_name": "Python 3",
   "language": "python",
   "name": "python3"
  },
  "language_info": {
   "codemirror_mode": {
    "name": "ipython",
    "version": 3
   },
   "file_extension": ".py",
   "mimetype": "text/x-python",
   "name": "python",
   "nbconvert_exporter": "python",
   "pygments_lexer": "ipython3",
   "version": "3.8.8"
  }
 },
 "nbformat": 4,
 "nbformat_minor": 1
}
